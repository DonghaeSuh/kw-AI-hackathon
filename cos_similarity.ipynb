{
  "nbformat": 4,
  "nbformat_minor": 0,
  "metadata": {
    "colab": {
      "name": "cos_similarity.ipynb",
      "private_outputs": true,
      "provenance": [],
      "collapsed_sections": [],
      "authorship_tag": "ABX9TyPB8/e0eVqkpc8KRqMcN4xN",
      "include_colab_link": true
    },
    "kernelspec": {
      "name": "python3",
      "display_name": "Python 3"
    },
    "language_info": {
      "name": "python"
    }
  },
  "cells": [
    {
      "cell_type": "markdown",
      "metadata": {
        "id": "view-in-github",
        "colab_type": "text"
      },
      "source": [
        "<a href=\"https://colab.research.google.com/github/DonghaeSuh/kw-AI-hackathon/blob/main/cos_similarity.ipynb\" target=\"_parent\"><img src=\"https://colab.research.google.com/assets/colab-badge.svg\" alt=\"Open In Colab\"/></a>"
      ]
    },
    {
      "cell_type": "code",
      "metadata": {
        "id": "FI2N1VGnXQSW"
      },
      "source": [
        "!git clone https://github.com/DonghaeSuh/kw-AI-hackathon.git"
      ],
      "execution_count": null,
      "outputs": []
    },
    {
      "cell_type": "code",
      "metadata": {
        "id": "H2NXbBOOYuDK"
      },
      "source": [
        "ls"
      ],
      "execution_count": null,
      "outputs": []
    },
    {
      "cell_type": "code",
      "metadata": {
        "id": "yi_gU6XzYv1v"
      },
      "source": [
        "cd kw-AI-hackathon/"
      ],
      "execution_count": null,
      "outputs": []
    },
    {
      "cell_type": "code",
      "metadata": {
        "id": "kaQzVQGlY3DQ"
      },
      "source": [
        "ls"
      ],
      "execution_count": null,
      "outputs": []
    },
    {
      "cell_type": "code",
      "metadata": {
        "id": "UH7lr9QLYl8C"
      },
      "source": [
        "import pandas as pd\n",
        "import numpy as np\n",
        "import os\n",
        "import matplotlib.pyplot as plt\n",
        "import seaborn as sns\n",
        "import platform\n",
        "import time_series_extract as extractor"
      ],
      "execution_count": null,
      "outputs": []
    },
    {
      "cell_type": "code",
      "metadata": {
        "id": "4sjyStsOaFdA"
      },
      "source": [
        "if platform.system() == 'Darwin': #맥\n",
        "        plt.rc('font', family='AppleGothic')\n",
        "elif platform.system() == 'Windows': #윈도우\n",
        "        plt.rc('font', family='Malgun Gothic')\n",
        "elif platform.system() == 'Linux': #리눅스 (구글 콜랩)\n",
        "        #!wget \"https://www.wfonts.com/download/data/2016/06/13/malgun-gothic/malgun.ttf\"\n",
        "        #!mv malgun.ttf /usr/share/fonts/truetype/\n",
        "        #import matplotlib.font_manager as fm\n",
        "        #fm._rebuild()\n",
        "        plt.rc('font', family='Malgun Gothic')\n",
        "plt.rcParams['axes.unicode_minus'] = False #한글 폰트 사용시 마이너스 폰트 깨짐 해결\n",
        "#matplotlib 패키지 한글 깨짐 처리 끝"
      ],
      "execution_count": null,
      "outputs": []
    },
    {
      "cell_type": "code",
      "metadata": {
        "id": "U9kozGLqaXFP"
      },
      "source": [
        "from google.colab import drive\n",
        "drive.mount('/content/drive')"
      ],
      "execution_count": null,
      "outputs": []
    },
    {
      "cell_type": "code",
      "metadata": {
        "id": "UrFblSEwadKh"
      },
      "source": [
        "import os\n",
        "os.chdir('/content/drive/MyDrive/월간 11 운동')"
      ],
      "execution_count": null,
      "outputs": []
    },
    {
      "cell_type": "code",
      "metadata": {
        "id": "wVBTa7DRaxDG"
      },
      "source": [
        "ls"
      ],
      "execution_count": null,
      "outputs": []
    },
    {
      "cell_type": "code",
      "metadata": {
        "id": "lTBbnw5kazKd"
      },
      "source": [
        "cd kw-AI-hackathon/"
      ],
      "execution_count": null,
      "outputs": []
    },
    {
      "cell_type": "code",
      "metadata": {
        "id": "Kg1lu7g9aYIV"
      },
      "source": [
        "import pandas as pd\n",
        "import numpy as np\n",
        "\n",
        "train=pd.read_csv('train_features.csv')\n",
        "train_labels=pd.read_csv('train_labels.csv')\n",
        "test=pd.read_csv('test_features.csv')\n",
        "submission=pd.read_csv('sample_submission.csv')\n"
      ],
      "execution_count": null,
      "outputs": []
    },
    {
      "cell_type": "code",
      "metadata": {
        "id": "Pm-0pifLbwfI"
      },
      "source": [
        "cd kw-AI-hackathon/"
      ],
      "execution_count": null,
      "outputs": []
    },
    {
      "cell_type": "code",
      "metadata": {
        "id": "rbT3MIkOb-i5"
      },
      "source": [
        "path = '/content/drive/MyDrive/월간 11 운동'"
      ],
      "execution_count": null,
      "outputs": []
    },
    {
      "cell_type": "code",
      "metadata": {
        "id": "Fo6lGCRAcCcD"
      },
      "source": [
        "train_path = os.path.join(path, 'train_features.csv')\n",
        "label_path = os.path.join(path, 'train_labels.csv')\n",
        "test_path = os.path.join(path, 'test_features.csv')\n",
        "sub_path = os. path.join(path, 'sample_submission.csv')"
      ],
      "execution_count": null,
      "outputs": []
    },
    {
      "cell_type": "code",
      "metadata": {
        "id": "Ac-wvnj1cGT-"
      },
      "source": [
        "train = pd.read_csv(train_path)\n",
        "label = pd.read_csv(label_path)\n",
        "test = pd.read_csv(test_path)\n",
        "sub = pd.read_csv(sub_path)\n",
        "extract_vector = extractor.main(train_path, label_path, test_path, sub_path)"
      ],
      "execution_count": null,
      "outputs": []
    },
    {
      "cell_type": "code",
      "metadata": {
        "id": "hNAYD7CtdLB6"
      },
      "source": [
        "# 26 번 class의 id를 반환\n",
        "def ids_26(label):\n",
        "    mask = label['label'] == 26\n",
        "    ids = label.loc[mask, 'id'].tolist()\n",
        "    \n",
        "    return ids"
      ],
      "execution_count": null,
      "outputs": []
    },
    {
      "cell_type": "code",
      "metadata": {
        "id": "jW0Bn1eqdNdE"
      },
      "source": [
        "# 26 번 class 의 extract_vector만 가져옴\n",
        "print(extract_vector)\n"
      ],
      "execution_count": null,
      "outputs": []
    },
    {
      "cell_type": "markdown",
      "metadata": {
        "id": "lrdAqlCquq4S"
      },
      "source": [
        ""
      ]
    },
    {
      "cell_type": "markdown",
      "metadata": {
        "id": "VW8Xub6huquJ"
      },
      "source": [
        ""
      ]
    },
    {
      "cell_type": "markdown",
      "metadata": {
        "id": "KPEJqXonuTct"
      },
      "source": [
        "아래 부분은 생략 가능"
      ]
    },
    {
      "cell_type": "code",
      "metadata": {
        "id": "CGO-Lcc4lI-L"
      },
      "source": [
        "from sklearn.metrics.pairwise import cosine_similarity"
      ],
      "execution_count": null,
      "outputs": []
    },
    {
      "cell_type": "code",
      "metadata": {
        "id": "1MnRuxEQe_pN"
      },
      "source": [
        "from tqdm import tqdm\n",
        "\n",
        "def cos_cluster(extract_vector,ids):\n",
        "  cluster_list=[ids[0]] \n",
        "\n",
        "  for k in tqdm(range(len(ids)-1)):\n",
        "    V1 = np.array(extract_vector.iloc[k])\n",
        "    V1= V1.reshape(1,128)\n",
        "    V2 = np.array(extract_vector.iloc[k+1])\n",
        "    V2=V2.reshape(1,128)\n",
        "\n",
        "    if cosine_similarity(V1, V2)>=0.999:\n",
        "      cluster_list.append(ids[k+1])\n",
        "      print('{},{} 코사인 유사도 {}: '.format(ids[0],ids[k+1],cosine_similarity(V1, V2)))\n",
        "  \n",
        "  print(\"군집 내 총 {}개\".format(len(cluster_list)))   \n",
        "  print(\"군집 내 원소{}\".format(cluster_list))\n",
        "\n",
        "  return cluster_list\n"
      ],
      "execution_count": null,
      "outputs": []
    },
    {
      "cell_type": "code",
      "metadata": {
        "id": "e7Ebmcvzv_fP"
      },
      "source": [
        "cluster_list = cos_cluster(extract_vector,ids)"
      ],
      "execution_count": null,
      "outputs": []
    },
    {
      "cell_type": "markdown",
      "metadata": {
        "id": "OzXd0sJXqQyz"
      },
      "source": [
        "현재 군집 제거 "
      ]
    },
    {
      "cell_type": "code",
      "metadata": {
        "id": "-XXloD8Ysjkp"
      },
      "source": [
        "print(cluster_list)"
      ],
      "execution_count": null,
      "outputs": []
    },
    {
      "cell_type": "code",
      "metadata": {
        "id": "b96ObyqjqV0l"
      },
      "source": [
        "#현재 얻은 군집을 샘플에서 제거\n",
        "extract_vector=extract_vector.drop(cluster_list)\n",
        "#ids에서도 제거\n",
        "for i in range(cluster_list):\n",
        "  ids = ids.remove(cluster_list[i])\n",
        "\n",
        "print(extract_vector.head())"
      ],
      "execution_count": null,
      "outputs": []
    },
    {
      "cell_type": "markdown",
      "metadata": {
        "id": "uApB19g2uYMh"
      },
      "source": [
        "군집들 정리 while돌리면 됨"
      ]
    },
    {
      "cell_type": "code",
      "metadata": {
        "id": "DNtuyjdf5-CD"
      },
      "source": [
        "cluster = {}"
      ],
      "execution_count": null,
      "outputs": []
    },
    {
      "cell_type": "markdown",
      "metadata": {
        "id": "uFxjol2dvmTO"
      },
      "source": [
        "affinity=cosine_similarity 쓰면 kmeans cosin유사도 군집화 가능\n",
        "\n"
      ]
    }
  ]
}