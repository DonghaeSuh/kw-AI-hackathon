{
 "cells": [
  {
   "cell_type": "code",
   "execution_count": 1,
   "id": "ad760c48",
   "metadata": {},
   "outputs": [],
   "source": [
    "import pandas as pd\n",
    "import numpy as np\n",
    "import os\n",
    "from sklearn.model_selection import StratifiedKFold"
   ]
  },
  {
   "cell_type": "code",
   "execution_count": 2,
   "id": "c6d67c23",
   "metadata": {},
   "outputs": [],
   "source": [
    "# data 경로\n",
    "path = 'data'\n",
    "train_path = os.path.join(path, 'train_features.csv')\n",
    "label_path = os.path.join(path, 'train_labels.csv')\n",
    "test_path = os.path.join(path, 'test_features.csv')\n",
    "sub_path = os. path.join(path, 'sample_submission.csv')\n",
    "\n",
    "train = pd.read_csv(train_path)\n",
    "label = pd.read_csv(label_path)\n",
    "test = pd.read_csv(test_path)\n",
    "sub = pd.read_csv(sub_path)"
   ]
  },
  {
   "cell_type": "code",
   "execution_count": 5,
   "id": "ea01706b",
   "metadata": {},
   "outputs": [],
   "source": [
    "k = 10\n",
    "stf = StratifiedKFold(n_splits=k, shuffle=True, random_state=42)"
   ]
  },
  {
   "cell_type": "code",
   "execution_count": 6,
   "id": "6a41f83e",
   "metadata": {},
   "outputs": [],
   "source": [
    "def ids_26(label):\n",
    "    mask = label['label'] == 26\n",
    "    ids = label.loc[mask, 'id'].tolist()\n",
    "    \n",
    "    return ids"
   ]
  },
  {
   "cell_type": "code",
   "execution_count": 9,
   "id": "d24e52c8",
   "metadata": {},
   "outputs": [],
   "source": [
    "def make_series(data):\n",
    "    ids = data['id'].unique()\n",
    "    id_data = data.groupby('id')\n",
    "    series_data = []\n",
    "\n",
    "    for i in ids:\n",
    "        df = id_data.get_group(i)\n",
    "        df = df.drop(['id', 'time'], axis=1)\n",
    "        series_data.append(df.to_numpy())\n",
    "\n",
    "    series_data = np.array(series_data)\n",
    "    return series_data"
   ]
  },
  {
   "cell_type": "code",
   "execution_count": 10,
   "id": "70bd0d86",
   "metadata": {},
   "outputs": [],
   "source": [
    "series_train = make_series(train)\n",
    "series_test = make_series(test)"
   ]
  },
  {
   "cell_type": "code",
   "execution_count": 19,
   "id": "c28af4e3",
   "metadata": {},
   "outputs": [
    {
     "name": "stdout",
     "output_type": "stream",
     "text": [
      "2812\n",
      "2812\n",
      "2812\n",
      "2812\n",
      "2812\n",
      "2812\n",
      "2812\n",
      "2812\n",
      "2812\n",
      "2812\n",
      "2813\n",
      "2813\n",
      "2813\n",
      "2813\n",
      "2813\n",
      "2813\n",
      "2813\n",
      "2813\n",
      "2813\n",
      "2813\n"
     ]
    }
   ],
   "source": [
    "exclude_ids = ids_26(label)\n",
    "# id를 반환. id는 index다\n",
    "for i, (train, val) in enumerate(stf.split(series_train, label['label'])):\n",
    "    train_26 = []\n",
    "    print(len(train))\n",
    "    for ii in train:\n",
    "        if ii in exclude_ids:\n",
    "            train_26.append(ii)\n",
    "    train_26 = np.array(train_26)\n",
    "    train = np.setdiff1d(train, train_26, assume_unique=True)\n",
    "    print(len(train) + len(train_26))"
   ]
  },
  {
   "cell_type": "code",
   "execution_count": null,
   "id": "8748ec9d",
   "metadata": {},
   "outputs": [],
   "source": []
  }
 ],
 "metadata": {
  "kernelspec": {
   "display_name": "kw-ai",
   "language": "python",
   "name": "kw_ai"
  },
  "language_info": {
   "codemirror_mode": {
    "name": "ipython",
    "version": 3
   },
   "file_extension": ".py",
   "mimetype": "text/x-python",
   "name": "python",
   "nbconvert_exporter": "python",
   "pygments_lexer": "ipython3",
   "version": "3.9.7"
  }
 },
 "nbformat": 4,
 "nbformat_minor": 5
}
