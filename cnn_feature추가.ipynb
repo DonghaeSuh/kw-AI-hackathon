{
 "cells": [
  {
   "cell_type": "code",
   "execution_count": null,
   "metadata": {
    "colab": {
     "base_uri": "https://localhost:8080/"
    },
    "executionInfo": {
     "elapsed": 17091,
     "status": "ok",
     "timestamp": 1632544704255,
     "user": {
      "displayName": "정진우",
      "photoUrl": "https://lh3.googleusercontent.com/a/default-user=s64",
      "userId": "05017758655145019300"
     },
     "user_tz": -540
    },
    "id": "2hgKg57fJpJS",
    "outputId": "a098de4c-a6d9-4f2e-851b-165eab8931e2"
   },
   "outputs": [
    {
     "name": "stdout",
     "output_type": "stream",
     "text": [
      "Mounted at /content/drive\n"
     ]
    }
   ],
   "source": [
    "from google.colab import drive\n",
    "drive.mount('/content/drive')"
   ]
  },
  {
   "cell_type": "code",
   "execution_count": null,
   "metadata": {
    "id": "NKr4e58EJ2oZ"
   },
   "outputs": [],
   "source": [
    "path = '/content/drive/MyDrive/kw-ai'"
   ]
  },
  {
   "cell_type": "code",
   "execution_count": null,
   "metadata": {
    "id": "Wks6Om0wSWLl"
   },
   "outputs": [],
   "source": [
    "import pandas as pd\n",
    "import numpy as np\n",
    "import matplotlib.pyplot as plt\n",
    "import seaborn as sns\n",
    "from scipy import signal\n",
    "from tqdm import tqdm\n",
    "from numpy.fft import fft, fftshift\n",
    "import matplotlib.pyplot as plt\n",
    "import seaborn as sns\n",
    "import random\n",
    "import warnings\n",
    "warnings.filterwarnings(action='ignore')"
   ]
  },
  {
   "cell_type": "code",
   "execution_count": null,
   "metadata": {
    "id": "Vw7XGVa_sAWg"
   },
   "outputs": [],
   "source": [
    "import os\n",
    "import pandas as pd\n",
    "from sklearn.preprocessing import StandardScaler\n",
    "import numpy as np\n",
    "from keras import backend as K"
   ]
  },
  {
   "cell_type": "code",
   "execution_count": null,
   "metadata": {
    "id": "vc0uFzuqsAxI"
   },
   "outputs": [],
   "source": [
    "# data load\n",
    "# path 변수를 적절히 변경\n",
    "x_train_path = os.path.join(path, 'data/train_features.csv')\n",
    "y_train_path = os.path.join(path, 'data/train_labels.csv')\n",
    "x_test_path = os.path.join(path, 'data/test_features.csv')\n",
    "sub_path = os.path.join(path, 'data/sample_submission.csv')\n",
    "\n",
    "train = pd.read_csv(x_train_path)\n",
    "train_label = pd.read_csv(y_train_path)\n",
    "test = pd.read_csv(x_test_path)\n",
    "sub = pd.read_csv(sub_path)"
   ]
  },
  {
   "cell_type": "code",
   "execution_count": null,
   "metadata": {
    "id": "AtySyr-xSfIj"
   },
   "outputs": [],
   "source": [
    "train['acc_Energy']=(train['acc_x']**2+train['acc_y']**2+train['acc_z']**2)**(1/3)\n",
    "test['acc_Energy']=(test['acc_x']**2+test['acc_y']**2+test['acc_z']**2)**(1/3)\n",
    "\n",
    "train['gy_Energy']=(train['gy_x']**2+train['gy_y']**2+train['gy_z']**2)**(1/3)\n",
    "test['gy_Energy']=(test['gy_x']**2+test['gy_y']**2+test['gy_z']**2)**(1/3)\n",
    "\n",
    "train['gy_acc_Energy']=((train['gy_x']-train['acc_x'])**2+(train['gy_y']-train['acc_y'])**2+(train['gy_z']-train['acc_z'])**2)**(1/3)\n",
    "test['gy_acc_Energy']=((test['gy_x']-test['acc_x'])**2+(test['gy_y']-test['acc_y'])**2+(test['gy_z']-test['acc_z'])**2)**(1/3)"
   ]
  },
  {
   "cell_type": "code",
   "execution_count": null,
   "metadata": {
    "id": "3ae8GoaqSfiT"
   },
   "outputs": [],
   "source": [
    "dt=0.02 \n",
    "def jerk_signal(signal): \n",
    "        return np.array([(signal[i+1]-signal[i])/dt for i in range(len(signal)-1)])"
   ]
  },
  {
   "cell_type": "code",
   "execution_count": null,
   "metadata": {
    "colab": {
     "base_uri": "https://localhost:8080/"
    },
    "executionInfo": {
     "elapsed": 58983,
     "status": "ok",
     "timestamp": 1632544777317,
     "user": {
      "displayName": "정진우",
      "photoUrl": "https://lh3.googleusercontent.com/a/default-user=s64",
      "userId": "05017758655145019300"
     },
     "user_tz": -540
    },
    "id": "Chnfsh_nShGj",
    "outputId": "58f62936-b920-4e43-aa23-40df86be67a9"
   },
   "outputs": [
    {
     "name": "stderr",
     "output_type": "stream",
     "text": [
      "100%|██████████| 3125/3125 [00:59<00:00, 52.28it/s]\n"
     ]
    }
   ],
   "source": [
    "train_dt=[]\n",
    "for i in tqdm(train['id'].unique()):\n",
    "    temp=train.loc[train['id']==i]\n",
    "    for v in train.columns[2:]:\n",
    "        values=jerk_signal(temp[v].values)\n",
    "        values=np.insert(values,0,0)\n",
    "        temp.loc[:,v+'_dt']=values\n",
    "    train_dt.append(temp)"
   ]
  },
  {
   "cell_type": "code",
   "execution_count": null,
   "metadata": {
    "colab": {
     "base_uri": "https://localhost:8080/"
    },
    "executionInfo": {
     "elapsed": 13931,
     "status": "ok",
     "timestamp": 1632544791238,
     "user": {
      "displayName": "정진우",
      "photoUrl": "https://lh3.googleusercontent.com/a/default-user=s64",
      "userId": "05017758655145019300"
     },
     "user_tz": -540
    },
    "id": "vcz3_Q3ESjak",
    "outputId": "5f84e99c-f390-4621-8324-aaaca32707ec"
   },
   "outputs": [
    {
     "name": "stderr",
     "output_type": "stream",
     "text": [
      "100%|██████████| 782/782 [00:13<00:00, 56.82it/s]\n"
     ]
    }
   ],
   "source": [
    "test_dt=[]\n",
    "for i in tqdm(test['id'].unique()):\n",
    "    temp=test.loc[test['id']==i]\n",
    "    for v in train.columns[2:]:\n",
    "        values=jerk_signal(temp[v].values)\n",
    "        values=np.insert(values,0,0)\n",
    "        temp.loc[:,v+'_dt']=values\n",
    "    test_dt.append(temp)"
   ]
  },
  {
   "cell_type": "code",
   "execution_count": null,
   "metadata": {
    "id": "9ASuEmvnSlUC"
   },
   "outputs": [],
   "source": [
    "from scipy import fftpack\n",
    "from numpy.fft import *\n",
    "\n",
    "def fourier_transform_one_signal(t_signal):\n",
    "    complex_f_signal= fftpack.fft(t_signal)\n",
    "    amplitude_f_signal=np.abs(complex_f_signal)\n",
    "    return amplitude_f_signal"
   ]
  },
  {
   "cell_type": "code",
   "execution_count": null,
   "metadata": {
    "id": "eelGbTI1Sm2g"
   },
   "outputs": [],
   "source": [
    "train=pd.concat(train_dt)"
   ]
  },
  {
   "cell_type": "code",
   "execution_count": null,
   "metadata": {
    "colab": {
     "base_uri": "https://localhost:8080/"
    },
    "executionInfo": {
     "elapsed": 14130,
     "status": "ok",
     "timestamp": 1632544806529,
     "user": {
      "displayName": "정진우",
      "photoUrl": "https://lh3.googleusercontent.com/a/default-user=s64",
      "userId": "05017758655145019300"
     },
     "user_tz": -540
    },
    "id": "7_KH5cPFSpnT",
    "outputId": "26913aa7-3898-491f-b599-6330cbdff415"
   },
   "outputs": [
    {
     "name": "stderr",
     "output_type": "stream",
     "text": [
      "100%|██████████| 3125/3125 [00:13<00:00, 228.95it/s]\n"
     ]
    }
   ],
   "source": [
    "fft=[]\n",
    "for i in tqdm(train['id'].unique()):\n",
    "    temp=train.loc[train['id']==i]\n",
    "    for i in train.columns[2:8]:\n",
    "        temp[i]=fourier_transform_one_signal(temp[i].values)\n",
    "    fft.append(temp)\n",
    "train=pd.concat(fft)"
   ]
  },
  {
   "cell_type": "code",
   "execution_count": null,
   "metadata": {
    "id": "LZiIUk-WSrPb"
   },
   "outputs": [],
   "source": [
    "test=pd.concat(test_dt)"
   ]
  },
  {
   "cell_type": "code",
   "execution_count": null,
   "metadata": {
    "colab": {
     "base_uri": "https://localhost:8080/"
    },
    "executionInfo": {
     "elapsed": 2536,
     "status": "ok",
     "timestamp": 1632544809061,
     "user": {
      "displayName": "정진우",
      "photoUrl": "https://lh3.googleusercontent.com/a/default-user=s64",
      "userId": "05017758655145019300"
     },
     "user_tz": -540
    },
    "id": "x6AgItPDSsaF",
    "outputId": "794bb572-6ad6-4079-d909-abb09a9dae47"
   },
   "outputs": [
    {
     "name": "stderr",
     "output_type": "stream",
     "text": [
      "100%|██████████| 782/782 [00:02<00:00, 339.31it/s]\n"
     ]
    }
   ],
   "source": [
    "fft_t=[]\n",
    "for i in tqdm(test['id'].unique()):\n",
    "    temp=test.loc[test['id']==i]\n",
    "    for i in test.columns[2:8]:\n",
    "        temp[i]=fourier_transform_one_signal(temp[i].values)\n",
    "    fft_t.append(temp)\n",
    "test=pd.concat(fft_t)"
   ]
  },
  {
   "cell_type": "code",
   "execution_count": null,
   "metadata": {
    "id": "s9MBdEHgSt5N"
   },
   "outputs": [],
   "source": [
    "col=train.columns\n",
    "train_s=train.copy()\n",
    "test_s=test.copy()"
   ]
  },
  {
   "cell_type": "code",
   "execution_count": null,
   "metadata": {
    "id": "1YMP9fjvSvJt"
   },
   "outputs": [],
   "source": [
    "from sklearn.preprocessing import StandardScaler,MinMaxScaler\n",
    "\n",
    "scaler = StandardScaler()\n",
    "\n",
    "train_s.iloc[:,2:]= scaler.fit_transform(train_s.iloc[:,2:])\n",
    "train_sc = pd.DataFrame(data = train_s,columns =col)\n",
    "\n",
    "test_s.iloc[:,2:]= scaler.transform(test_s.iloc[:,2:])\n",
    "test_sc = pd.DataFrame(data = test_s,columns =col)"
   ]
  },
  {
   "cell_type": "code",
   "execution_count": null,
   "metadata": {
    "colab": {
     "base_uri": "https://localhost:8080/",
     "height": 424
    },
    "executionInfo": {
     "elapsed": 14,
     "status": "ok",
     "timestamp": 1632544816577,
     "user": {
      "displayName": "정진우",
      "photoUrl": "https://lh3.googleusercontent.com/a/default-user=s64",
      "userId": "05017758655145019300"
     },
     "user_tz": -540
    },
    "id": "k8imgjvCSwoE",
    "outputId": "6207b9c2-9966-43d2-972b-63a022b39d17"
   },
   "outputs": [
    {
     "data": {
      "text/html": [
       "<div>\n",
       "<style scoped>\n",
       "    .dataframe tbody tr th:only-of-type {\n",
       "        vertical-align: middle;\n",
       "    }\n",
       "\n",
       "    .dataframe tbody tr th {\n",
       "        vertical-align: top;\n",
       "    }\n",
       "\n",
       "    .dataframe thead th {\n",
       "        text-align: right;\n",
       "    }\n",
       "</style>\n",
       "<table border=\"1\" class=\"dataframe\">\n",
       "  <thead>\n",
       "    <tr style=\"text-align: right;\">\n",
       "      <th></th>\n",
       "      <th>id</th>\n",
       "      <th>time</th>\n",
       "      <th>acc_x</th>\n",
       "      <th>acc_y</th>\n",
       "      <th>acc_z</th>\n",
       "      <th>gy_x</th>\n",
       "      <th>gy_y</th>\n",
       "      <th>gy_z</th>\n",
       "      <th>acc_Energy</th>\n",
       "      <th>gy_Energy</th>\n",
       "      <th>gy_acc_Energy</th>\n",
       "      <th>acc_x_dt</th>\n",
       "      <th>acc_y_dt</th>\n",
       "      <th>acc_z_dt</th>\n",
       "      <th>gy_x_dt</th>\n",
       "      <th>gy_y_dt</th>\n",
       "      <th>gy_z_dt</th>\n",
       "      <th>acc_Energy_dt</th>\n",
       "      <th>gy_Energy_dt</th>\n",
       "      <th>gy_acc_Energy_dt</th>\n",
       "    </tr>\n",
       "  </thead>\n",
       "  <tbody>\n",
       "    <tr>\n",
       "      <th>0</th>\n",
       "      <td>0</td>\n",
       "      <td>0</td>\n",
       "      <td>27.356382</td>\n",
       "      <td>8.807207</td>\n",
       "      <td>19.465910</td>\n",
       "      <td>0.376992</td>\n",
       "      <td>0.869226</td>\n",
       "      <td>0.150423</td>\n",
       "      <td>0.495681</td>\n",
       "      <td>-0.272719</td>\n",
       "      <td>-0.276391</td>\n",
       "      <td>0.000027</td>\n",
       "      <td>0.000298</td>\n",
       "      <td>-0.000433</td>\n",
       "      <td>0.000347</td>\n",
       "      <td>0.000373</td>\n",
       "      <td>0.000273</td>\n",
       "      <td>0.000101</td>\n",
       "      <td>0.001505</td>\n",
       "      <td>0.001501</td>\n",
       "    </tr>\n",
       "    <tr>\n",
       "      <th>1</th>\n",
       "      <td>0</td>\n",
       "      <td>1</td>\n",
       "      <td>-0.054866</td>\n",
       "      <td>0.833464</td>\n",
       "      <td>0.820412</td>\n",
       "      <td>-0.282128</td>\n",
       "      <td>-0.093560</td>\n",
       "      <td>0.011266</td>\n",
       "      <td>0.742974</td>\n",
       "      <td>-0.236152</td>\n",
       "      <td>-0.240632</td>\n",
       "      <td>0.416836</td>\n",
       "      <td>-0.118821</td>\n",
       "      <td>-0.255054</td>\n",
       "      <td>0.032738</td>\n",
       "      <td>-0.349095</td>\n",
       "      <td>0.377085</td>\n",
       "      <td>0.564992</td>\n",
       "      <td>0.166566</td>\n",
       "      <td>0.162871</td>\n",
       "    </tr>\n",
       "    <tr>\n",
       "      <th>2</th>\n",
       "      <td>0</td>\n",
       "      <td>2</td>\n",
       "      <td>0.024046</td>\n",
       "      <td>0.315921</td>\n",
       "      <td>0.081086</td>\n",
       "      <td>-0.182551</td>\n",
       "      <td>-0.053585</td>\n",
       "      <td>-0.003708</td>\n",
       "      <td>0.819822</td>\n",
       "      <td>-0.169815</td>\n",
       "      <td>-0.173080</td>\n",
       "      <td>0.086405</td>\n",
       "      <td>0.023750</td>\n",
       "      <td>-0.531727</td>\n",
       "      <td>-0.141582</td>\n",
       "      <td>-0.202368</td>\n",
       "      <td>-0.004887</td>\n",
       "      <td>0.175645</td>\n",
       "      <td>0.300944</td>\n",
       "      <td>0.306341</td>\n",
       "    </tr>\n",
       "    <tr>\n",
       "      <th>3</th>\n",
       "      <td>0</td>\n",
       "      <td>3</td>\n",
       "      <td>0.065632</td>\n",
       "      <td>0.117634</td>\n",
       "      <td>-0.040874</td>\n",
       "      <td>-0.194863</td>\n",
       "      <td>0.154242</td>\n",
       "      <td>0.005408</td>\n",
       "      <td>0.785669</td>\n",
       "      <td>-0.035229</td>\n",
       "      <td>-0.040560</td>\n",
       "      <td>-0.058780</td>\n",
       "      <td>-0.213920</td>\n",
       "      <td>0.285459</td>\n",
       "      <td>0.229520</td>\n",
       "      <td>-0.385106</td>\n",
       "      <td>-0.135647</td>\n",
       "      <td>-0.077915</td>\n",
       "      <td>0.609008</td>\n",
       "      <td>0.599518</td>\n",
       "    </tr>\n",
       "    <tr>\n",
       "      <th>4</th>\n",
       "      <td>0</td>\n",
       "      <td>4</td>\n",
       "      <td>0.151477</td>\n",
       "      <td>0.300751</td>\n",
       "      <td>0.317742</td>\n",
       "      <td>-0.350724</td>\n",
       "      <td>0.494539</td>\n",
       "      <td>0.154354</td>\n",
       "      <td>0.791528</td>\n",
       "      <td>0.021954</td>\n",
       "      <td>0.016872</td>\n",
       "      <td>0.039823</td>\n",
       "      <td>0.259227</td>\n",
       "      <td>-0.055206</td>\n",
       "      <td>0.057320</td>\n",
       "      <td>-0.174917</td>\n",
       "      <td>-0.028047</td>\n",
       "      <td>0.013483</td>\n",
       "      <td>0.259626</td>\n",
       "      <td>0.260669</td>\n",
       "    </tr>\n",
       "    <tr>\n",
       "      <th>...</th>\n",
       "      <td>...</td>\n",
       "      <td>...</td>\n",
       "      <td>...</td>\n",
       "      <td>...</td>\n",
       "      <td>...</td>\n",
       "      <td>...</td>\n",
       "      <td>...</td>\n",
       "      <td>...</td>\n",
       "      <td>...</td>\n",
       "      <td>...</td>\n",
       "      <td>...</td>\n",
       "      <td>...</td>\n",
       "      <td>...</td>\n",
       "      <td>...</td>\n",
       "      <td>...</td>\n",
       "      <td>...</td>\n",
       "      <td>...</td>\n",
       "      <td>...</td>\n",
       "      <td>...</td>\n",
       "      <td>...</td>\n",
       "    </tr>\n",
       "    <tr>\n",
       "      <th>1874995</th>\n",
       "      <td>3124</td>\n",
       "      <td>595</td>\n",
       "      <td>0.365037</td>\n",
       "      <td>0.011656</td>\n",
       "      <td>0.845701</td>\n",
       "      <td>0.080839</td>\n",
       "      <td>0.350395</td>\n",
       "      <td>0.112282</td>\n",
       "      <td>-0.138940</td>\n",
       "      <td>0.829394</td>\n",
       "      <td>0.823900</td>\n",
       "      <td>0.151679</td>\n",
       "      <td>0.037205</td>\n",
       "      <td>0.119409</td>\n",
       "      <td>-0.108728</td>\n",
       "      <td>-0.027804</td>\n",
       "      <td>-0.009085</td>\n",
       "      <td>-0.142794</td>\n",
       "      <td>0.063329</td>\n",
       "      <td>0.063674</td>\n",
       "    </tr>\n",
       "    <tr>\n",
       "      <th>1874996</th>\n",
       "      <td>3124</td>\n",
       "      <td>596</td>\n",
       "      <td>10.220817</td>\n",
       "      <td>5.476964</td>\n",
       "      <td>7.441373</td>\n",
       "      <td>3.605246</td>\n",
       "      <td>16.530576</td>\n",
       "      <td>11.843241</td>\n",
       "      <td>-0.167578</td>\n",
       "      <td>0.814816</td>\n",
       "      <td>0.809618</td>\n",
       "      <td>0.150658</td>\n",
       "      <td>-0.000363</td>\n",
       "      <td>0.265559</td>\n",
       "      <td>-0.027936</td>\n",
       "      <td>0.090560</td>\n",
       "      <td>-0.018412</td>\n",
       "      <td>-0.065316</td>\n",
       "      <td>-0.064300</td>\n",
       "      <td>-0.062949</td>\n",
       "    </tr>\n",
       "    <tr>\n",
       "      <th>1874997</th>\n",
       "      <td>3124</td>\n",
       "      <td>597</td>\n",
       "      <td>0.386337</td>\n",
       "      <td>0.177768</td>\n",
       "      <td>-0.080193</td>\n",
       "      <td>-0.192468</td>\n",
       "      <td>-0.033904</td>\n",
       "      <td>-0.227861</td>\n",
       "      <td>-0.151875</td>\n",
       "      <td>0.802027</td>\n",
       "      <td>0.797338</td>\n",
       "      <td>0.093524</td>\n",
       "      <td>-0.049283</td>\n",
       "      <td>0.260884</td>\n",
       "      <td>0.082744</td>\n",
       "      <td>0.123264</td>\n",
       "      <td>-0.152712</td>\n",
       "      <td>0.035970</td>\n",
       "      <td>-0.056225</td>\n",
       "      <td>-0.053918</td>\n",
       "    </tr>\n",
       "    <tr>\n",
       "      <th>1874998</th>\n",
       "      <td>3124</td>\n",
       "      <td>598</td>\n",
       "      <td>0.728823</td>\n",
       "      <td>0.014037</td>\n",
       "      <td>0.350745</td>\n",
       "      <td>0.136284</td>\n",
       "      <td>1.281790</td>\n",
       "      <td>0.403540</td>\n",
       "      <td>-0.175811</td>\n",
       "      <td>0.801880</td>\n",
       "      <td>0.797431</td>\n",
       "      <td>0.174681</td>\n",
       "      <td>-0.096564</td>\n",
       "      <td>0.071332</td>\n",
       "      <td>0.153722</td>\n",
       "      <td>-0.014412</td>\n",
       "      <td>-0.049662</td>\n",
       "      <td>-0.054574</td>\n",
       "      <td>0.000843</td>\n",
       "      <td>0.001922</td>\n",
       "    </tr>\n",
       "    <tr>\n",
       "      <th>1874999</th>\n",
       "      <td>3124</td>\n",
       "      <td>599</td>\n",
       "      <td>0.886204</td>\n",
       "      <td>0.075614</td>\n",
       "      <td>1.107553</td>\n",
       "      <td>-0.182228</td>\n",
       "      <td>0.894062</td>\n",
       "      <td>0.311408</td>\n",
       "      <td>-0.223043</td>\n",
       "      <td>0.803421</td>\n",
       "      <td>0.799233</td>\n",
       "      <td>0.266539</td>\n",
       "      <td>-0.107081</td>\n",
       "      <td>0.079654</td>\n",
       "      <td>0.207388</td>\n",
       "      <td>-0.042034</td>\n",
       "      <td>-0.022996</td>\n",
       "      <td>-0.107792</td>\n",
       "      <td>0.008458</td>\n",
       "      <td>0.009633</td>\n",
       "    </tr>\n",
       "  </tbody>\n",
       "</table>\n",
       "<p>1875000 rows × 20 columns</p>\n",
       "</div>"
      ],
      "text/plain": [
       "           id  time      acc_x  ...  acc_Energy_dt  gy_Energy_dt  gy_acc_Energy_dt\n",
       "0           0     0  27.356382  ...       0.000101      0.001505          0.001501\n",
       "1           0     1  -0.054866  ...       0.564992      0.166566          0.162871\n",
       "2           0     2   0.024046  ...       0.175645      0.300944          0.306341\n",
       "3           0     3   0.065632  ...      -0.077915      0.609008          0.599518\n",
       "4           0     4   0.151477  ...       0.013483      0.259626          0.260669\n",
       "...       ...   ...        ...  ...            ...           ...               ...\n",
       "1874995  3124   595   0.365037  ...      -0.142794      0.063329          0.063674\n",
       "1874996  3124   596  10.220817  ...      -0.065316     -0.064300         -0.062949\n",
       "1874997  3124   597   0.386337  ...       0.035970     -0.056225         -0.053918\n",
       "1874998  3124   598   0.728823  ...      -0.054574      0.000843          0.001922\n",
       "1874999  3124   599   0.886204  ...      -0.107792      0.008458          0.009633\n",
       "\n",
       "[1875000 rows x 20 columns]"
      ]
     },
     "execution_count": 17,
     "metadata": {},
     "output_type": "execute_result"
    }
   ],
   "source": [
    "train_sc"
   ]
  },
  {
   "cell_type": "code",
   "execution_count": null,
   "metadata": {
    "id": "vZy3ESaQsA1P"
   },
   "outputs": [],
   "source": [
    "# make dataset\n",
    "# x를 시계열 데이터로 변경 시켜주는 함수\n",
    "def make_dataset(data):\n",
    "  ids = data['id'].unique()\n",
    "  id_data = data.groupby('id')\n",
    "  series_data = []\n",
    "\n",
    "  for i in ids:\n",
    "    df = id_data.get_group(i)\n",
    "    df = df.drop(['id', 'time'], axis=1)\n",
    "    series_data.append(df.to_numpy())\n",
    "\n",
    "  series_data = np.array(series_data)\n",
    "  return series_data"
   ]
  },
  {
   "cell_type": "code",
   "execution_count": null,
   "metadata": {
    "id": "hR2Ktaa8sA4J"
   },
   "outputs": [],
   "source": [
    "series_train = make_dataset(train_sc)\n",
    "series_test = make_dataset(test_sc)"
   ]
  },
  {
   "cell_type": "code",
   "execution_count": null,
   "metadata": {
    "colab": {
     "base_uri": "https://localhost:8080/"
    },
    "executionInfo": {
     "elapsed": 11,
     "status": "ok",
     "timestamp": 1632544824790,
     "user": {
      "displayName": "정진우",
      "photoUrl": "https://lh3.googleusercontent.com/a/default-user=s64",
      "userId": "05017758655145019300"
     },
     "user_tz": -540
    },
    "id": "HPIYaGKYTqd6",
    "outputId": "b1b89ba8-0de5-430e-99d4-98f17876f86d"
   },
   "outputs": [
    {
     "data": {
      "text/plain": [
       "((3125, 600, 18), (782, 600, 18))"
      ]
     },
     "execution_count": 20,
     "metadata": {},
     "output_type": "execute_result"
    }
   ],
   "source": [
    "series_train.shape, series_test.shape"
   ]
  },
  {
   "cell_type": "code",
   "execution_count": null,
   "metadata": {
    "id": "g9wNlmSfsA7X"
   },
   "outputs": [],
   "source": [
    "# label one-hot 인코딩\n",
    "labels = train_label['label'].to_numpy()"
   ]
  },
  {
   "cell_type": "code",
   "execution_count": null,
   "metadata": {
    "id": "wPF3TlMjsA-Y"
   },
   "outputs": [],
   "source": [
    "import tensorflow as tf"
   ]
  },
  {
   "cell_type": "code",
   "execution_count": null,
   "metadata": {
    "id": "fFzP-m60sBBQ"
   },
   "outputs": [],
   "source": [
    "# dataset과 validation set을 만들어 주는 함수\n",
    "# validation set은 shuffle 적용 x\n",
    "def make_train(series_data, labels):\n",
    "  cat_y = tf.keras.utils.to_categorical(labels)\n",
    "\n",
    "  BATCH_SIZE = 128\n",
    "  train_dataset = tf.data.Dataset.from_tensor_slices((series_data, cat_y))\n",
    "  train_dataset = train_dataset.batch(BATCH_SIZE).shuffle(1000, seed=42)\n",
    "  train_dataset = train_dataset.prefetch(buffer_size=tf.data.experimental.AUTOTUNE)\n",
    "\n",
    "  return train_dataset\n",
    "\n",
    "def make_val(series_data, labels):\n",
    "  cat_y = tf.keras.utils.to_categorical(labels)\n",
    "\n",
    "  BATCH_SIZE = 128\n",
    "  val_dataset = tf.data.Dataset.from_tensor_slices((series_data, cat_y))\n",
    "  val_dataset = val_dataset.batch(BATCH_SIZE)\n",
    "  val_dataset = val_dataset.prefetch(buffer_size=tf.data.experimental.AUTOTUNE)\n",
    "\n",
    "  return train_dataset"
   ]
  },
  {
   "cell_type": "code",
   "execution_count": null,
   "metadata": {
    "id": "fY9MMIpKsBEQ"
   },
   "outputs": [],
   "source": [
    "from tensorflow import keras"
   ]
  },
  {
   "cell_type": "code",
   "execution_count": null,
   "metadata": {
    "id": "MKze3ZxZsBHK"
   },
   "outputs": [],
   "source": [
    "# 가중치 적용 loss\n",
    "# https://openaccess.thecvf.com/content_CVPR_2019/papers/Cui_Class-Balanced_Loss_Based_on_Effective_Number_of_Samples_CVPR_2019_paper.pdf\n",
    "# 위 논문 참고\n",
    "def weighted_loss(labels, y_pred, beta=0.9):\n",
    "        no_samples = [12, 21, 20, 23, 35, 25, 24, 26, 97, 37, 20, 23, 12,\n",
    "                     12, 25, 25, 22, 27, 47, 20, 26, 27, 19, 20, 35, 24,\n",
    "                     1518, 34, 55, 20, 35, 20, 18, 20, 22, 30, 28, 35, 20,\n",
    "                     20, 34, 20, 20, 35, 21, 22, 20, 26, 25, 30, 37, 24,\n",
    "                     12, 13, 23, 37, 36, 20, 20, 23, 48]\n",
    "\n",
    "        weight = tf.divide(1.0-beta, 1.0-tf.pow(beta, no_samples))\n",
    "        #y_pred /= K.sum(y_pred, axis=-1, keepdims=True)\n",
    "        y_pred = K.clip(y_pred, K.epsilon(), 1 - K.epsilon())\n",
    "        loss = -labels * K.log(y_pred) * weight\n",
    "        loss = tf.reduce_mean(K.sum(loss, -1))\n",
    "        return loss\n",
    "\n",
    "\n",
    "def focal(labels, y_pred, gamma=2):\n",
    "    #y_pred = tf.nn.softmax(logits, dim=-1)  # [batch_size, num_classes]\n",
    "    #labels = tf.squeeze(labels)  # label example: [0,1,2,3]\n",
    "    #labels = tf.to_float(tf.one_hot(labels, depth=y_pred.shape[1]))\n",
    "\n",
    "    loss = -labels * ((1 - y_pred) ** gamma) * K.log(y_pred)\n",
    "    loss = tf.reduce_mean(tf.reduce_sum(loss, axis=1))\n",
    "    return loss\n",
    "\n",
    "\n",
    "# 모델을 만들어 주는 함수\n",
    "# 기존 base에서 overfitting이 심해, dropout을 늘림(아직 제출은 안해봄)\n",
    "def base():\n",
    "  model = keras.models.Sequential([\n",
    "            keras.layers.Conv1D(128, 9, padding='same', input_shape=[600, 18]),\n",
    "            keras.layers.BatchNormalization(),\n",
    "            keras.layers.Activation('relu'),\n",
    "            keras.layers.Dropout(0.3),\n",
    "            keras.layers.Conv1D(256, 6, padding='same'),\n",
    "            keras.layers.BatchNormalization(),\n",
    "            keras.layers.Activation('relu'),\n",
    "            keras.layers.Dropout(0.4),\n",
    "            keras.layers.Conv1D(128, 3,padding='same'),\n",
    "            keras.layers.BatchNormalization(),\n",
    "            keras.layers.Activation('relu'),\n",
    "            keras.layers.Dropout(0.5),\n",
    "            keras.layers.GlobalAveragePooling1D(),\n",
    "            keras.layers.Dense(61, activation='softmax')\n",
    "  ])\n",
    "\n",
    "  model.compile(optimizer='adam',\n",
    "                loss='categorical_crossentropy', \n",
    "                metrics=['accuracy'])\n",
    "  return model"
   ]
  },
  {
   "cell_type": "code",
   "execution_count": null,
   "metadata": {
    "id": "3RmPo-81sBKI"
   },
   "outputs": [],
   "source": [
    "# checkpoint path\n",
    "# 중간중간 모델의 weight를 저장할 경로 설정\n",
    "ckpt_name = 'cnn_ckpt.hdf5'\n",
    "checkpoint_dir_path = os.path.join(path, 'checkpoint')\n",
    "checkpoint_path = os.path.join(path, 'checkpoint', ckpt_name)\n",
    "\n",
    "# check checkpoint paht\n",
    "# 경로가 없으면 생성함\n",
    "if not(os.path.exists(checkpoint_dir_path)):\n",
    "  os.mkdir(checkpoint_dir_path)\n",
    "\n",
    "# callback 함수 목록\n",
    "callbacks_list = [\n",
    "    # 매 epoch 마다 val_loss를 체크하여 가장 낮은 상태의 weight를 저장\n",
    "    tf.keras.callbacks.ModelCheckpoint(\n",
    "        filepath = checkpoint_path,\n",
    "        monitor='loss',\n",
    "        mode='min',\n",
    "        save_weights_only=True,\n",
    "        save_best_only=True\n",
    "    ),\n",
    "    # 8번 동안 val_loss의 향상이 없으면 훈련 종료\n",
    "    tf.keras.callbacks.EarlyStopping(\n",
    "        monitor='loss',\n",
    "        mode='min',\n",
    "        verbose=1, \n",
    "        patience=8\n",
    "    )\n",
    "]"
   ]
  },
  {
   "cell_type": "code",
   "execution_count": null,
   "metadata": {
    "id": "Lq6UZYCHs-Rf"
   },
   "outputs": [],
   "source": [
    "train_dataset = make_train(series_train, labels)"
   ]
  },
  {
   "cell_type": "code",
   "execution_count": null,
   "metadata": {
    "id": "Da6eZS01sBNX"
   },
   "outputs": [],
   "source": [
    "model = base()"
   ]
  },
  {
   "cell_type": "code",
   "execution_count": null,
   "metadata": {
    "colab": {
     "base_uri": "https://localhost:8080/"
    },
    "id": "VMGTuek9sBQP",
    "outputId": "0c1522fa-403f-44fa-adbd-952c165af6f6"
   },
   "outputs": [
    {
     "name": "stdout",
     "output_type": "stream",
     "text": [
      "Epoch 1/50\n",
      "25/25 [==============================] - 6s 158ms/step - loss: 0.3109 - accuracy: 0.4490\n",
      "Epoch 2/50\n",
      "25/25 [==============================] - 4s 154ms/step - loss: 0.2200 - accuracy: 0.5459\n",
      "Epoch 3/50\n",
      "25/25 [==============================] - 4s 153ms/step - loss: 0.1954 - accuracy: 0.5709\n",
      "Epoch 4/50\n",
      "25/25 [==============================] - 4s 157ms/step - loss: 0.1779 - accuracy: 0.5990\n",
      "Epoch 5/50\n",
      "25/25 [==============================] - 4s 155ms/step - loss: 0.1629 - accuracy: 0.6278\n",
      "Epoch 6/50\n",
      "25/25 [==============================] - 4s 153ms/step - loss: 0.1504 - accuracy: 0.6525\n",
      "Epoch 7/50\n",
      "25/25 [==============================] - 4s 155ms/step - loss: 0.1386 - accuracy: 0.6755\n",
      "Epoch 8/50\n",
      "25/25 [==============================] - 4s 154ms/step - loss: 0.1297 - accuracy: 0.6915\n",
      "Epoch 9/50\n",
      "25/25 [==============================] - 4s 154ms/step - loss: 0.1201 - accuracy: 0.7110\n",
      "Epoch 10/50\n",
      "25/25 [==============================] - 4s 154ms/step - loss: 0.1120 - accuracy: 0.7270\n",
      "Epoch 11/50\n",
      "25/25 [==============================] - 4s 154ms/step - loss: 0.1054 - accuracy: 0.7446\n",
      "Epoch 12/50\n",
      "25/25 [==============================] - 4s 154ms/step - loss: 0.0993 - accuracy: 0.7565\n",
      "Epoch 13/50\n",
      "14/25 [===============>..............] - ETA: 1s - loss: 0.0955 - accuracy: 0.7684"
     ]
    }
   ],
   "source": [
    "hist = model.fit(train_dataset, callbacks=callbacks_list, epochs=50)"
   ]
  },
  {
   "cell_type": "code",
   "execution_count": null,
   "metadata": {
    "id": "JSnisgztsBTY"
   },
   "outputs": [],
   "source": [
    "model.load_weights(checkpoint_path)"
   ]
  },
  {
   "cell_type": "code",
   "execution_count": null,
   "metadata": {
    "id": "qTPGpuqCsBWY"
   },
   "outputs": [],
   "source": [
    "pred = model.predict(series_test)\n",
    "sub.iloc[:, 1:] = pred\n",
    "sub.to_csv('cnn_feature.csv', index=False)"
   ]
  },
  {
   "cell_type": "code",
   "execution_count": null,
   "metadata": {
    "id": "jYeYG75tsBsX"
   },
   "outputs": [],
   "source": []
  }
 ],
 "metadata": {
  "accelerator": "GPU",
  "colab": {
   "authorship_tag": "ABX9TyPop1GxxQsH7aD1U6LZOVAU",
   "collapsed_sections": [],
   "name": "weighted loss.ipynb",
   "provenance": []
  },
  "kernelspec": {
   "display_name": "Python 3 (ipykernel)",
   "language": "python",
   "name": "python3"
  },
  "language_info": {
   "codemirror_mode": {
    "name": "ipython",
    "version": 3
   },
   "file_extension": ".py",
   "mimetype": "text/x-python",
   "name": "python",
   "nbconvert_exporter": "python",
   "pygments_lexer": "ipython3",
   "version": "3.8.0"
  }
 },
 "nbformat": 4,
 "nbformat_minor": 1
}
