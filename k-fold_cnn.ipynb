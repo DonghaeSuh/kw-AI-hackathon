{
 "cells": [
  {
   "cell_type": "code",
   "execution_count": 1,
   "metadata": {
    "id": "-GXKayomSNPW"
   },
   "outputs": [],
   "source": [
    "import pandas as pd\n",
    "import numpy as np\n",
    "from scipy import signal\n",
    "from tqdm import tqdm\n",
    "from numpy.fft import fft, fftshift\n",
    "import random\n",
    "import warnings\n",
    "warnings.filterwarnings(action='ignore')"
   ]
  },
  {
   "cell_type": "code",
   "execution_count": 24,
   "metadata": {
    "id": "3nS6P4CFclon"
   },
   "outputs": [],
   "source": [
    "import os\n",
    "from sklearn.preprocessing import StandardScaler, MinMaxScaler\n",
    "from numpy.random import seed"
   ]
  },
  {
   "cell_type": "code",
   "execution_count": 3,
   "metadata": {
    "id": "6a7L8lIscmuC"
   },
   "outputs": [],
   "source": [
    "# data load\n",
    "# path 변수를 적절히 변경\n",
    "x_train_path = os.path.join('data/train_features.csv')\n",
    "y_train_path = os.path.join('data/train_labels.csv')\n",
    "x_test_path = os.path.join('data/test_features.csv')\n",
    "sub_path = os.path.join('data/sample_submission.csv')\n",
    "\n",
    "train = pd.read_csv(x_train_path)\n",
    "train_label = pd.read_csv(y_train_path)\n",
    "test = pd.read_csv(x_test_path)\n",
    "sub = pd.read_csv(sub_path)"
   ]
  },
  {
   "cell_type": "code",
   "execution_count": 4,
   "metadata": {
    "id": "mavQBA55RR3V"
   },
   "outputs": [],
   "source": [
    "train['acc_Energy']=(train['acc_x']**2+train['acc_y']**2+train['acc_z']**2)**(1/3)\n",
    "test['acc_Energy']=(test['acc_x']**2+test['acc_y']**2+test['acc_z']**2)**(1/3)\n",
    "\n",
    "train['gy_Energy']=(train['gy_x']**2+train['gy_y']**2+train['gy_z']**2)**(1/3)\n",
    "test['gy_Energy']=(test['gy_x']**2+test['gy_y']**2+test['gy_z']**2)**(1/3)\n",
    "\n",
    "train['gy_acc_Energy']=((train['gy_x']-train['acc_x'])**2+(train['gy_y']-train['acc_y'])**2+(train['gy_z']-train['acc_z'])**2)**(1/3)\n",
    "test['gy_acc_Energy']=((test['gy_x']-test['acc_x'])**2+(test['gy_y']-test['acc_y'])**2+(test['gy_z']-test['acc_z'])**2)**(1/3)"
   ]
  },
  {
   "cell_type": "code",
   "execution_count": 5,
   "metadata": {
    "id": "iwGxUSpGRSXO"
   },
   "outputs": [],
   "source": [
    "dt=0.02 \n",
    "def jerk_signal(signal): \n",
    "        return np.array([(signal[i+1]-signal[i])/dt for i in range(len(signal)-1)])"
   ]
  },
  {
   "cell_type": "code",
   "execution_count": 6,
   "metadata": {
    "colab": {
     "base_uri": "https://localhost:8080/"
    },
    "executionInfo": {
     "elapsed": 65787,
     "status": "ok",
     "timestamp": 1632662852779,
     "user": {
      "displayName": "정진우",
      "photoUrl": "https://lh3.googleusercontent.com/a/default-user=s64",
      "userId": "05017758655145019300"
     },
     "user_tz": -540
    },
    "id": "0lxNDsd3RTt9",
    "outputId": "f9ad6cc5-7925-476c-8fe0-2c1eb9d56e2e"
   },
   "outputs": [
    {
     "name": "stderr",
     "output_type": "stream",
     "text": [
      "100%|██████████████████████████████████████| 3125/3125 [00:26<00:00, 116.34it/s]\n"
     ]
    }
   ],
   "source": [
    "train_dt=[]\n",
    "for i in tqdm(train['id'].unique()):\n",
    "    temp=train.loc[train['id']==i]\n",
    "    for v in train.columns[2:]:\n",
    "        values=jerk_signal(temp[v].values)\n",
    "        values=np.insert(values,0,0)\n",
    "        temp.loc[:,v+'_dt']=values\n",
    "    train_dt.append(temp)"
   ]
  },
  {
   "cell_type": "code",
   "execution_count": 7,
   "metadata": {
    "colab": {
     "base_uri": "https://localhost:8080/"
    },
    "executionInfo": {
     "elapsed": 15008,
     "status": "ok",
     "timestamp": 1632662867783,
     "user": {
      "displayName": "정진우",
      "photoUrl": "https://lh3.googleusercontent.com/a/default-user=s64",
      "userId": "05017758655145019300"
     },
     "user_tz": -540
    },
    "id": "zPRPZFcLRT1d",
    "outputId": "e434200b-800f-49bc-934c-33b7e62595ae"
   },
   "outputs": [
    {
     "name": "stderr",
     "output_type": "stream",
     "text": [
      "100%|████████████████████████████████████████| 782/782 [00:06<00:00, 126.89it/s]\n"
     ]
    }
   ],
   "source": [
    "test_dt=[]\n",
    "for i in tqdm(test['id'].unique()):\n",
    "    temp=test.loc[test['id']==i]\n",
    "    for v in train.columns[2:]:make_dataset(test_sc)\n",
    "        values=jerk_signal(temp[v].values)\n",
    "        values=np.insert(values,0,0)\n",
    "        temp.loc[:,v+'_dt']=values\n",
    "    test_dt.append(temp)"
   ]
  },
  {
   "cell_type": "code",
   "execution_count": 8,
   "metadata": {
    "id": "hzUQiiBiRT63"
   },
   "outputs": [],
   "source": [
    "from scipy import fftpack\n",
    "from numpy.fft import *\n",
    "\n",
    "def fourier_transform_one_signal(t_signal):\n",
    "    complex_f_signal= fftpack.fft(t_signal)\n",
    "    amplitude_f_signal=np.abs(complex_f_signal)\n",
    "    return amplitude_f_signal"
   ]
  },
  {
   "cell_type": "code",
   "execution_count": 9,
   "metadata": {
    "id": "V4Ca3DmuRT_-"
   },
   "outputs": [],
   "source": [
    "train=pd.concat(train_dt)"
   ]
  },
  {
   "cell_type": "code",
   "execution_count": 10,
   "metadata": {
    "colab": {
     "base_uri": "https://localhost:8080/"
    },
    "executionInfo": {
     "elapsed": 15779,
     "status": "ok",
     "timestamp": 1632662884668,
     "user": {
      "displayName": "정진우",
      "photoUrl": "https://lh3.googleusercontent.com/a/default-user=s64",
      "userId": "05017758655145019300"
     },
     "user_tz": -540
    },
    "id": "Cc0raRZfRUD3",
    "outputId": "4b51c773-cce5-4350-b239-dbcaa2a887f8"
   },
   "outputs": [
    {
     "name": "stderr",
     "output_type": "stream",
     "text": [
      "100%|██████████████████████████████████████| 3125/3125 [00:06<00:00, 512.90it/s]\n"
     ]
    }
   ],
   "source": [
    "fft=[]\n",
    "for i in tqdm(train['id'].unique()):\n",
    "    temp=train.loc[train['id']==i]\n",
    "    for i in train.columns[2:8]:\n",
    "        temp[i]=fourier_transform_one_signal(temp[i].values)\n",
    "    fft.append(temp)\n",
    "train=pd.concat(fft)"
   ]
  },
  {
   "cell_type": "code",
   "execution_count": 11,
   "metadata": {
    "id": "lvi_FxYRRUIH"
   },
   "outputs": [],
   "source": [
    "test=pd.concat(test_dt)"
   ]
  },
  {
   "cell_type": "code",
   "execution_count": 12,
   "metadata": {
    "colab": {
     "base_uri": "https://localhost:8080/"
    },
    "executionInfo": {
     "elapsed": 3742,
     "status": "ok",
     "timestamp": 1632662888407,
     "user": {
      "displayName": "정진우",
      "photoUrl": "https://lh3.googleusercontent.com/a/default-user=s64",
      "userId": "05017758655145019300"
     },
     "user_tz": -540
    },
    "id": "2xzmkO4qRUMV",
    "outputId": "2bc57713-b363-40d1-bce1-2ec34501c8d0"
   },
   "outputs": [
    {
     "name": "stderr",
     "output_type": "stream",
     "text": [
      "100%|████████████████████████████████████████| 782/782 [00:00<00:00, 872.53it/s]\n"
     ]
    }
   ],
   "source": [
    "fft_t=[]\n",
    "for i in tqdm(test['id'].unique()):\n",
    "    temp=test.loc[test['id']==i]\n",
    "    for i in test.columns[2:8]:\n",
    "        temp[i]=fourier_transform_one_signal(temp[i].values)\n",
    "    fft_t.append(temp)\n",
    "test=pd.concat(fft_t)"
   ]
  },
  {
   "cell_type": "code",
   "execution_count": 13,
   "metadata": {
    "id": "up2BeDOHRy4f"
   },
   "outputs": [],
   "source": [
    "col=train.columns\n",
    "train_s=train.copy()\n",
    "test_s=test.copy()"
   ]
  },
  {
   "cell_type": "code",
   "execution_count": 14,
   "metadata": {
    "id": "KvCd8ZK3Ry-2"
   },
   "outputs": [],
   "source": [
    "from sklearn.preprocessing import StandardScaler,MinMaxScaler\n",
    "\n",
    "scaler = StandardScaler()\n",
    "\n",
    "train_s.iloc[:,2:]= scaler.fit_transform(train_s.iloc[:,2:])\n",
    "train_sc = pd.DataFrame(data = train_s,columns =col)\n",
    "\n",
    "test_s.iloc[:,2:]= scaler.transform(test_s.iloc[:,2:])\n",
    "test_sc = pd.DataFrame(data = test_s,columns =col)"
   ]
  },
  {
   "cell_type": "code",
   "execution_count": 17,
   "metadata": {
    "id": "qPAZZJHXgoiQ"
   },
   "outputs": [],
   "source": [
    "series_train = train_sc.iloc[:, 2:].to_numpy().reshape(-1, 600, 18)\n",
    "series_test = test_sc.iloc[:, 2:].to_numpy().reshape(-1,600, 18)"
   ]
  },
  {
   "cell_type": "code",
   "execution_count": 18,
   "metadata": {
    "colab": {
     "base_uri": "https://localhost:8080/"
    },
    "executionInfo": {
     "elapsed": 14,
     "status": "ok",
     "timestamp": 1632662903775,
     "user": {
      "displayName": "정진우",
      "photoUrl": "https://lh3.googleusercontent.com/a/default-user=s64",
      "userId": "05017758655145019300"
     },
     "user_tz": -540
    },
    "id": "kjfKFqMDgyIg",
    "outputId": "c9ceaad7-2894-4479-920e-aaa5921ec76a"
   },
   "outputs": [
    {
     "data": {
      "text/plain": [
       "((3125, 600, 18), (782, 600, 18))"
      ]
     },
     "execution_count": 18,
     "metadata": {},
     "output_type": "execute_result"
    }
   ],
   "source": [
    "series_train.shape, series_test.shape"
   ]
  },
  {
   "cell_type": "code",
   "execution_count": 41,
   "metadata": {
    "id": "_GseNX7J1Jus"
   },
   "outputs": [],
   "source": [
    "# label one-hot 인코딩\n",
    "labels = train_label['label'].to_numpy()"
   ]
  },
  {
   "cell_type": "code",
   "execution_count": 42,
   "metadata": {
    "id": "uNrC9wQJi3m-"
   },
   "outputs": [],
   "source": [
    "import tensorflow as tf"
   ]
  },
  {
   "cell_type": "code",
   "execution_count": 43,
   "metadata": {
    "id": "_UIgE8D4iL_n"
   },
   "outputs": [],
   "source": [
    "# dataset과 validation set을 만들어 주는 함수\n",
    "# validation set은 shuffle 적용 x\n",
    "def make_train(series_data, labels):\n",
    "  cat_y = tf.keras.utils.to_categorical(labels)\n",
    "\n",
    "  BATCH_SIZE = 64\n",
    "  train_dataset = tf.data.Dataset.from_tensor_slices((series_data, cat_y))\n",
    "  train_dataset = train_dataset.batch(BATCH_SIZE)\n",
    "  train_dataset = train_dataset.prefetch(buffer_size=tf.data.experimental.AUTOTUNE)\n",
    "\n",
    "  return train_dataset\n",
    "\n",
    "def make_val(series_data, labels):\n",
    "  cat_y = tf.keras.utils.to_categorical(labels)\n",
    "\n",
    "  BATCH_SIZE = 64\n",
    "  val_dataset = tf.data.Dataset.from_tensor_slices((series_data, cat_y))\n",
    "  val_dataset = val_dataset.batch(BATCH_SIZE)\n",
    "  val_dataset = val_dataset.prefetch(buffer_size=tf.data.experimental.AUTOTUNE)\n",
    "\n",
    "  return train_dataset"
   ]
  },
  {
   "cell_type": "code",
   "execution_count": 44,
   "metadata": {
    "id": "1gw8a_c9j_WO"
   },
   "outputs": [],
   "source": [
    "from tensorflow import keras\n",
    "from tensorflow.keras import backend as K"
   ]
  },
  {
   "cell_type": "code",
   "execution_count": 45,
   "metadata": {
    "id": "TwqgyCrykGx2"
   },
   "outputs": [],
   "source": [
    "# 가중치 적용 loss\n",
    "# https://openaccess.thecvf.com/content_CVPR_2019/papers/Cui_Class-Balanced_Loss_Based_on_Effective_Number_of_Samples_CVPR_2019_paper.pdf\n",
    "# 위 논문 참고\n",
    "def weighted_loss(labels, y_pred, beta=0.9):\n",
    "        no_samples = [12, 21, 20, 23, 35, 25, 24, 26, 97, 37, 20, 23, 12,\n",
    "                     12, 25, 25, 22, 27, 47, 20, 26, 27, 19, 20, 35, 24,\n",
    "                     1518, 34, 55, 20, 35, 20, 18, 20, 22, 30, 28, 35, 20,\n",
    "                     20, 34, 20, 20, 35, 21, 22, 20, 26, 25, 30, 37, 24,\n",
    "                     12, 13, 23, 37, 36, 20, 20, 23, 48]\n",
    "\n",
    "        weight = tf.divide(1-beta, 1-tf.pow(beta, no_samples))\n",
    "        #y_pred /= K.sum(y_pred, axis=-1, keepdims=True)\n",
    "        y_pred = K.clip(y_pred, K.epsilon(), 1 - K.epsilon())\n",
    "        loss = labels * K.log(y_pred) * weight\n",
    "        loss = -K.sum(loss, -1)\n",
    "        return loss\n",
    "\n",
    "def focal(labels, y_pred, gamma=2):\n",
    "    #y_pred = tf.nn.softmax(logits, dim=-1)  # [batch_size, num_classes]\n",
    "    #labels = tf.squeeze(labels)  # label example: [0,1,2,3]\n",
    "    #labels = tf.to_float(tf.one_hot(labels, depth=y_pred.shape[1]))\n",
    "\n",
    "    loss = -labels * ((1 - y_pred) ** gamma) * K.log(y_pred)\n",
    "    loss = tf.reduce_mean(tf.reduce_sum(loss, axis=1))\n",
    "    return loss\n",
    "\n",
    "\n",
    "# 모델을 만들어 주는 함수\n",
    "def base():\n",
    "    seed(2021)\n",
    "    tf.random.set_seed(2021)\n",
    "    model = keras.models.Sequential([\n",
    "            keras.layers.Conv1D(filters=128, kernel_size=9, padding='same', input_shape=[600, 18]),\n",
    "            keras.layers.BatchNormalization(),\n",
    "            keras.layers.Activation('relu'),\n",
    "            keras.layers.Dropout(0.3),\n",
    "            keras.layers.Conv1D(filters=256, kernel_size=6, padding='same'),\n",
    "            keras.layers.BatchNormalization(),\n",
    "            keras.layers.Activation('relu'),\n",
    "            keras.layers.Dropout(0.4),\n",
    "            keras.layers.Conv1D(filters=128, kernel_size=3,padding='same'),\n",
    "            keras.layers.BatchNormalization(),\n",
    "            keras.layers.Activation('relu'),\n",
    "            keras.layers.Dropout(0.5),\n",
    "            keras.layers.GlobalAveragePooling1D(),\n",
    "            keras.layers.Dense(61, activation='softmax')\n",
    "    ])\n",
    "    model.compile(optimizer='adam',\n",
    "                loss='categorical_crossentropy', \n",
    "                metrics=['accuracy'])\n",
    "    return model"
   ]
  },
  {
   "cell_type": "code",
   "execution_count": 59,
   "metadata": {},
   "outputs": [],
   "source": [
    "beta = 0.9\n",
    "no_samples = [12, 21, 20, 23, 35, 25, 24, 26, 97, 37, 20, 23, 12,\n",
    "                     12, 25, 25, 22, 27, 47, 20, 26, 27, 19, 20, 35, 24,\n",
    "                     1518, 34, 55, 20, 35, 20, 18, 20, 22, 30, 28, 35, 20,\n",
    "                     20, 34, 20, 20, 35, 21, 22, 20, 26, 25, 30, 37, 24,\n",
    "                     12, 13, 23, 37, 36, 20, 20, 23, 48]\n",
    "weight = (1.0-beta) / (1.0-np.power(beta, no_samples))\n",
    "weight = MinMaxScaler(feature_range=(1, 2)).fit_transform(weight.reshape(-1, 1))"
   ]
  },
  {
   "cell_type": "code",
   "execution_count": 47,
   "metadata": {
    "id": "Uu_96X_6me3f"
   },
   "outputs": [],
   "source": [
    "# checkpoint path\n",
    "# 중간중간 모델의 weight를 저장할 경로 설정\n",
    "ckpt_name = 'fold_cnn_weighted_ckpt.hdf5'\n",
    "checkpoint_dir_path = os.path.join('checkpoint')\n",
    "checkpoint_path = os.path.join(checkpoint_dir_path, ckpt_name)\n",
    "\n",
    "# callback 함수 목록\n",
    "callbacks_list = [\n",
    "    # 매 epoch 마다 val_loss를 체크하여 가장 낮은 상태의 weight를 저장\n",
    "    tf.keras.callbacks.ModelCheckpoint(\n",
    "        filepath = checkpoint_path,\n",
    "        monitor='val_loss',\n",
    "        mode='min',\n",
    "        save_weights_only=True,test_wt.csv\n",
    "        save_best_only=True\n",
    "    ),\n",
    "    # 8번 동안 val_loss의 향상이 없으면 훈련 종료\n",
    "    tf.keras.callbacks.EarlyStopping(\n",
    "        monitor='val_loss',\n",
    "        mode='min',\n",
    "        verbose=1, \n",
    "        patience=8\n",
    "    ),\n",
    "    tf.keras.callbacks.ReduceLROnPlateau(patience = 4,verbose = 1,factor = 0.5) \n",
    "]"
   ]
  },
  {
   "cell_type": "code",
   "execution_count": 48,
   "metadata": {
    "id": "ha_qizJGyI8y"
   },
   "outputs": [],
   "source": [
    "from sklearn.model_selection import StratifiedKFold"
   ]
  },
  {
   "cell_type": "code",
   "execution_count": 28,
   "metadata": {},
   "outputs": [],
   "source": [
    "no_samples = [12, 21, 20, 23, 35, 25, 24, 26, 97, 37, 20, 23, 12,\n",
    "                     12, 25, 25, 22, 27, 47, 20, 26, 27, 19, 20, 35, 24,\n",
    "                     1518, 34, 55, 20, 35, 20, 18, 20, 22, 30, 28, 35, 20,\n",
    "                     20, 34, 20, 20, 35, 21, 22, 20, 26, 25, 30, 37, 24,\n",
    "                     12, 13, 23, 37, 36, 20, 20, 23, 48]\n",
    "\n",
    "beta = 0.9\n",
    "weight = (1.0-beta) / (1.0-np.power(beta, no_samples))"
   ]
  },
  {
   "cell_type": "code",
   "execution_count": 61,
   "metadata": {},
   "outputs": [],
   "source": [
    "weight = {i: w for i, w in enumerate(weight)}"
   ]
  },
  {
   "cell_type": "code",
   "execution_count": null,
   "metadata": {},
   "outputs": [],
   "source": []
  },
  {
   "cell_type": "code",
   "execution_count": 58,
   "metadata": {
    "colab": {
     "base_uri": "https://localhost:8080/",
     "height": 1000
    },
    "executionInfo": {
     "elapsed": 630815,
     "status": "error",
     "timestamp": 1632663544570,
     "user": {
      "displayName": "정진우",
      "photoUrl": "https://lh3.googleusercontent.com/a/default-user=s64",
      "userId": "05017758655145019300"
     },
     "user_tz": -540
    },
    "id": "cShx8I-qzL9y",
    "outputId": "901e2ecf-3a88-4015-bfe0-8eb33cca8f55",
    "scrolled": true
   },
   "outputs": [
    {
     "name": "stdout",
     "output_type": "stream",
     "text": [
      "Fold 0\n",
      "####################\n",
      "Epoch 1/100\n",
      "44/44 [==============================] - 1s 30ms/step - loss: 3.2777 - accuracy: 0.4555 - val_loss: 3.3404 - val_accuracy: 0.2888\n",
      "Epoch 2/100\n",
      "44/44 [==============================] - 1s 27ms/step - loss: 2.3387 - accuracy: 0.5501 - val_loss: 1.8670 - val_accuracy: 0.5430\n",
      "Epoch 3/100\n",
      "44/44 [==============================] - 1s 27ms/step - loss: 2.0642 - accuracy: 0.5814 - val_loss: 1.8103 - val_accuracy: 0.5594\n",
      "Epoch 4/100\n",
      "44/44 [==============================] - 1s 26ms/step - loss: 1.8396 - accuracy: 0.6184 - val_loss: 1.6903 - val_accuracy: 0.5708\n",
      "Epoch 5/100\n",
      "44/44 [==============================] - 1s 27ms/step - loss: 1.6555 - accuracy: 0.6494 - val_loss: 1.5149 - val_accuracy: 0.6035\n",
      "Epoch 6/100\n",
      "44/44 [==============================] - 1s 26ms/step - loss: 1.4933 - accuracy: 0.6789 - val_loss: 1.3473 - val_accuracy: 0.6387\n",
      "Epoch 7/100\n",
      "44/44 [==============================] - 1s 27ms/step - loss: 1.3474 - accuracy: 0.7066 - val_loss: 1.2146 - val_accuracy: 0.6739\n",
      "Epoch 8/100\n",
      "44/44 [==============================] - 1s 27ms/step - loss: 1.2303 - accuracy: 0.7287 - val_loss: 1.0877 - val_accuracy: 0.7073\n",
      "Epoch 9/100\n",
      "44/44 [==============================] - 1s 27ms/step - loss: 1.1212 - accuracy: 0.7528 - val_loss: 0.9769 - val_accuracy: 0.7383\n",
      "Epoch 10/100\n",
      "44/44 [==============================] - 1s 27ms/step - loss: 1.0293 - accuracy: 0.7749 - val_loss: 0.8876 - val_accuracy: 0.7642\n",
      "Epoch 11/100\n",
      "44/44 [==============================] - 1s 27ms/step - loss: 0.9515 - accuracy: 0.7909 - val_loss: 0.8045 - val_accuracy: 0.7856\n",
      "Epoch 12/100\n",
      "44/44 [==============================] - 1s 27ms/step - loss: 0.8819 - accuracy: 0.8019 - val_loss: 0.7428 - val_accuracy: 0.7987\n",
      "Epoch 13/100\n",
      "44/44 [==============================] - 1s 28ms/step - loss: 0.8226 - accuracy: 0.8115 - val_loss: 0.6847 - val_accuracy: 0.8161\n",
      "Epoch 14/100\n",
      "44/44 [==============================] - 1s 26ms/step - loss: 0.7691 - accuracy: 0.8254 - val_loss: 0.6438 - val_accuracy: 0.8343\n",
      "Epoch 15/100\n",
      "44/44 [==============================] - 1s 28ms/step - loss: 0.7282 - accuracy: 0.8275 - val_loss: 0.5939 - val_accuracy: 0.8478\n",
      "Epoch 16/100\n",
      "44/44 [==============================] - 1s 26ms/step - loss: 0.6914 - accuracy: 0.8425 - val_loss: 0.5613 - val_accuracy: 0.8528\n",
      "Epoch 17/100\n",
      "44/44 [==============================] - 1s 27ms/step - loss: 0.6640 - accuracy: 0.8446 - val_loss: 0.5467 - val_accuracy: 0.8538\n",
      "Epoch 18/100\n",
      "44/44 [==============================] - 1s 28ms/step - loss: 0.6354 - accuracy: 0.8492 - val_loss: 0.5566 - val_accuracy: 0.8453\n",
      "Epoch 19/100\n",
      "44/44 [==============================] - 1s 28ms/step - loss: 0.5984 - accuracy: 0.8549 - val_loss: 0.5555 - val_accuracy: 0.8289\n",
      "Epoch 20/100\n",
      "44/44 [==============================] - 1s 26ms/step - loss: 0.5685 - accuracy: 0.8649 - val_loss: 0.5330 - val_accuracy: 0.8375\n",
      "Epoch 21/100\n",
      "44/44 [==============================] - 1s 28ms/step - loss: 0.5498 - accuracy: 0.8624 - val_loss: 0.4710 - val_accuracy: 0.8716\n",
      "Epoch 22/100\n",
      "44/44 [==============================] - 1s 28ms/step - loss: 0.5364 - accuracy: 0.8727 - val_loss: 0.4405 - val_accuracy: 0.8798\n",
      "Epoch 23/100\n",
      "44/44 [==============================] - 1s 27ms/step - loss: 0.5053 - accuracy: 0.8809 - val_loss: 0.4367 - val_accuracy: 0.8777\n",
      "Epoch 24/100\n",
      "44/44 [==============================] - 1s 27ms/step - loss: 0.4812 - accuracy: 0.8901 - val_loss: 0.4374 - val_accuracy: 0.8759\n",
      "Epoch 25/100\n",
      "44/44 [==============================] - 1s 28ms/step - loss: 0.4559 - accuracy: 0.8969 - val_loss: 0.4270 - val_accuracy: 0.8748\n",
      "Epoch 26/100\n",
      "44/44 [==============================] - 1s 26ms/step - loss: 0.4373 - accuracy: 0.9026 - val_loss: 0.4288 - val_accuracy: 0.8791\n",
      "Epoch 27/100\n",
      "44/44 [==============================] - 1s 28ms/step - loss: 0.4231 - accuracy: 0.9050 - val_loss: 0.4482 - val_accuracy: 0.8794\n",
      "Epoch 28/100\n",
      "44/44 [==============================] - 1s 28ms/step - loss: 0.4105 - accuracy: 0.9047 - val_loss: 0.4179 - val_accuracy: 0.8880\n",
      "Epoch 29/100\n",
      "44/44 [==============================] - 1s 27ms/step - loss: 0.3962 - accuracy: 0.9090 - val_loss: 0.3745 - val_accuracy: 0.8976\n",
      "Epoch 30/100\n",
      "44/44 [==============================] - 1s 27ms/step - loss: 0.3867 - accuracy: 0.9122 - val_loss: 0.3574 - val_accuracy: 0.8997\n",
      "Epoch 31/100\n",
      "44/44 [==============================] - 1s 26ms/step - loss: 0.3654 - accuracy: 0.9179 - val_loss: 0.3454 - val_accuracy: 0.9043\n",
      "Epoch 32/100\n",
      "44/44 [==============================] - 1s 27ms/step - loss: 0.3488 - accuracy: 0.9196 - val_loss: 0.3464 - val_accuracy: 0.9136\n",
      "Epoch 33/100\n",
      "44/44 [==============================] - 1s 27ms/step - loss: 0.3312 - accuracy: 0.9278 - val_loss: 0.3365 - val_accuracy: 0.9196\n",
      "Epoch 34/100\n",
      "44/44 [==============================] - 1s 28ms/step - loss: 0.3165 - accuracy: 0.9353 - val_loss: 0.3020 - val_accuracy: 0.9235\n",
      "Epoch 35/100\n",
      "44/44 [==============================] - 1s 27ms/step - loss: 0.3037 - accuracy: 0.9367 - val_loss: 0.2973 - val_accuracy: 0.9250\n",
      "Epoch 36/100\n",
      "44/44 [==============================] - 1s 27ms/step - loss: 0.2940 - accuracy: 0.9374 - val_loss: 0.2681 - val_accuracy: 0.9278\n",
      "Epoch 37/100\n",
      "44/44 [==============================] - 1s 27ms/step - loss: 0.2768 - accuracy: 0.9449 - val_loss: 0.2765 - val_accuracy: 0.9285\n",
      "Epoch 38/100\n",
      "44/44 [==============================] - 1s 27ms/step - loss: 0.2707 - accuracy: 0.9456 - val_loss: 0.2857 - val_accuracy: 0.9225\n",
      "Epoch 39/100\n",
      "44/44 [==============================] - 1s 27ms/step - loss: 0.2567 - accuracy: 0.9484 - val_loss: 0.2946 - val_accuracy: 0.9207\n",
      "Epoch 40/100\n",
      "44/44 [==============================] - 1s 27ms/step - loss: 0.2452 - accuracy: 0.9531 - val_loss: 0.2668 - val_accuracy: 0.9267\n",
      "Epoch 41/100\n",
      "44/44 [==============================] - 1s 28ms/step - loss: 0.2386 - accuracy: 0.9491 - val_loss: 0.2759 - val_accuracy: 0.9239\n",
      "Epoch 42/100\n",
      "44/44 [==============================] - 1s 28ms/step - loss: 0.2229 - accuracy: 0.9534 - val_loss: 0.2922 - val_accuracy: 0.9260\n",
      "Epoch 43/100\n",
      "44/44 [==============================] - 1s 28ms/step - loss: 0.2171 - accuracy: 0.9580 - val_loss: 0.2703 - val_accuracy: 0.9278\n",
      "Epoch 44/100\n",
      "43/44 [============================>.] - ETA: 0s - loss: 0.2049 - accuracy: 0.9611\n",
      "Epoch 00044: ReduceLROnPlateau reducing learning rate to 0.0005000000237487257.\n",
      "44/44 [==============================] - 1s 27ms/step - loss: 0.2038 - accuracy: 0.9612 - val_loss: 0.2712 - val_accuracy: 0.9243\n",
      "Epoch 45/100\n",
      "44/44 [==============================] - 1s 28ms/step - loss: 0.1868 - accuracy: 0.9659 - val_loss: 0.2399 - val_accuracy: 0.9403\n",
      "Epoch 46/100\n",
      "44/44 [==============================] - 1s 26ms/step - loss: 0.1873 - accuracy: 0.9659 - val_loss: 0.2075 - val_accuracy: 0.9523\n",
      "Epoch 47/100\n",
      "44/44 [==============================] - 1s 26ms/step - loss: 0.1688 - accuracy: 0.9712 - val_loss: 0.1920 - val_accuracy: 0.9552\n",
      "Epoch 48/100\n",
      "44/44 [==============================] - 1s 27ms/step - loss: 0.1622 - accuracy: 0.9726 - val_loss: 0.1835 - val_accuracy: 0.9566\n",
      "Epoch 49/100\n",
      "44/44 [==============================] - 1s 26ms/step - loss: 0.1531 - accuracy: 0.9744 - val_loss: 0.1849 - val_accuracy: 0.9527\n",
      "Epoch 50/100\n",
      "44/44 [==============================] - 1s 28ms/step - loss: 0.1467 - accuracy: 0.9787 - val_loss: 0.1782 - val_accuracy: 0.9591\n",
      "Epoch 51/100\n",
      "44/44 [==============================] - 1s 28ms/step - loss: 0.1448 - accuracy: 0.9790 - val_loss: 0.1757 - val_accuracy: 0.9598\n",
      "Epoch 52/100\n",
      "44/44 [==============================] - 1s 27ms/step - loss: 0.1401 - accuracy: 0.9780 - val_loss: 0.1773 - val_accuracy: 0.9534\n",
      "Epoch 53/100\n",
      "44/44 [==============================] - 1s 27ms/step - loss: 0.1331 - accuracy: 0.9822 - val_loss: 0.1673 - val_accuracy: 0.9612\n",
      "Epoch 54/100\n",
      "44/44 [==============================] - 1s 28ms/step - loss: 0.1267 - accuracy: 0.9833 - val_loss: 0.1720 - val_accuracy: 0.9566\n",
      "Epoch 55/100\n",
      "44/44 [==============================] - 1s 27ms/step - loss: 0.1224 - accuracy: 0.9844 - val_loss: 0.1701 - val_accuracy: 0.9570\n",
      "Epoch 56/100\n",
      "44/44 [==============================] - 1s 28ms/step - loss: 0.1206 - accuracy: 0.9826 - val_loss: 0.1556 - val_accuracy: 0.9591\n",
      "Epoch 57/100\n"
     ]
    },
    {
     "name": "stdout",
     "output_type": "stream",
     "text": [
      "44/44 [==============================] - 1s 28ms/step - loss: 0.1145 - accuracy: 0.9847 - val_loss: 0.1574 - val_accuracy: 0.9584\n",
      "Epoch 58/100\n",
      "44/44 [==============================] - 1s 27ms/step - loss: 0.1063 - accuracy: 0.9868 - val_loss: 0.1605 - val_accuracy: 0.9623\n",
      "Epoch 59/100\n",
      "44/44 [==============================] - 1s 27ms/step - loss: 0.1038 - accuracy: 0.9876 - val_loss: 0.1644 - val_accuracy: 0.9619\n",
      "Epoch 60/100\n",
      "44/44 [==============================] - 1s 28ms/step - loss: 0.1023 - accuracy: 0.9886 - val_loss: 0.1539 - val_accuracy: 0.9584\n",
      "Epoch 61/100\n",
      "44/44 [==============================] - 1s 28ms/step - loss: 0.0963 - accuracy: 0.9883 - val_loss: 0.1537 - val_accuracy: 0.9644\n",
      "Epoch 62/100\n",
      "44/44 [==============================] - 1s 26ms/step - loss: 0.1086 - accuracy: 0.9847 - val_loss: 0.2050 - val_accuracy: 0.9367\n",
      "Epoch 63/100\n",
      "44/44 [==============================] - 1s 26ms/step - loss: 0.1166 - accuracy: 0.9822 - val_loss: 0.1673 - val_accuracy: 0.9573\n",
      "Epoch 64/100\n",
      "44/44 [==============================] - 1s 27ms/step - loss: 0.0963 - accuracy: 0.9890 - val_loss: 0.1629 - val_accuracy: 0.9641\n",
      "Epoch 65/100\n",
      "43/44 [============================>.] - ETA: 0s - loss: 0.0887 - accuracy: 0.9920\n",
      "Epoch 00065: ReduceLROnPlateau reducing learning rate to 0.0002500000118743628.\n",
      "44/44 [==============================] - 1s 28ms/step - loss: 0.0880 - accuracy: 0.9922 - val_loss: 0.1757 - val_accuracy: 0.9509\n",
      "Epoch 66/100\n",
      "44/44 [==============================] - 1s 28ms/step - loss: 0.0834 - accuracy: 0.9915 - val_loss: 0.1727 - val_accuracy: 0.9474\n",
      "Epoch 67/100\n",
      "44/44 [==============================] - 1s 28ms/step - loss: 0.0755 - accuracy: 0.9925 - val_loss: 0.1457 - val_accuracy: 0.9612\n",
      "Epoch 68/100\n",
      "44/44 [==============================] - 1s 27ms/step - loss: 0.0717 - accuracy: 0.9950 - val_loss: 0.1656 - val_accuracy: 0.9527\n",
      "Epoch 69/100\n",
      "44/44 [==============================] - 1s 27ms/step - loss: 0.0709 - accuracy: 0.9947 - val_loss: 0.1445 - val_accuracy: 0.9623\n",
      "Epoch 70/100\n",
      "44/44 [==============================] - 1s 27ms/step - loss: 0.0681 - accuracy: 0.9954 - val_loss: 0.1533 - val_accuracy: 0.9587\n",
      "Epoch 71/100\n",
      "44/44 [==============================] - 1s 27ms/step - loss: 0.0672 - accuracy: 0.9950 - val_loss: 0.1461 - val_accuracy: 0.9609\n",
      "Epoch 72/100\n",
      "44/44 [==============================] - 1s 28ms/step - loss: 0.0639 - accuracy: 0.9968 - val_loss: 0.1401 - val_accuracy: 0.9616\n",
      "Epoch 73/100\n",
      "44/44 [==============================] - 1s 27ms/step - loss: 0.0610 - accuracy: 0.9957 - val_loss: 0.1405 - val_accuracy: 0.9612\n",
      "Epoch 74/100\n",
      "44/44 [==============================] - 1s 27ms/step - loss: 0.0612 - accuracy: 0.9972 - val_loss: 0.1608 - val_accuracy: 0.9523\n",
      "Epoch 75/100\n",
      "44/44 [==============================] - 1s 28ms/step - loss: 0.0600 - accuracy: 0.9972 - val_loss: 0.1393 - val_accuracy: 0.9609\n",
      "Epoch 76/100\n",
      "44/44 [==============================] - 1s 27ms/step - loss: 0.0587 - accuracy: 0.9982 - val_loss: 0.1329 - val_accuracy: 0.9648\n",
      "Epoch 77/100\n",
      "44/44 [==============================] - 1s 27ms/step - loss: 0.0554 - accuracy: 0.9975 - val_loss: 0.1290 - val_accuracy: 0.9630\n",
      "Epoch 78/100\n",
      "44/44 [==============================] - 1s 27ms/step - loss: 0.0577 - accuracy: 0.9979 - val_loss: 0.1487 - val_accuracy: 0.9584\n",
      "Epoch 79/100\n",
      "44/44 [==============================] - 1s 28ms/step - loss: 0.0542 - accuracy: 0.9975 - val_loss: 0.1664 - val_accuracy: 0.9506\n",
      "Epoch 80/100\n",
      "44/44 [==============================] - 1s 28ms/step - loss: 0.0579 - accuracy: 0.9954 - val_loss: 0.1576 - val_accuracy: 0.9563\n",
      "Epoch 81/100\n",
      "43/44 [============================>.] - ETA: 0s - loss: 0.0536 - accuracy: 0.9975\n",
      "Epoch 00081: ReduceLROnPlateau reducing learning rate to 0.0001250000059371814.\n",
      "44/44 [==============================] - 1s 27ms/step - loss: 0.0533 - accuracy: 0.9975 - val_loss: 0.1477 - val_accuracy: 0.9573\n",
      "Epoch 82/100\n",
      "44/44 [==============================] - 1s 26ms/step - loss: 0.0525 - accuracy: 0.9975 - val_loss: 0.1258 - val_accuracy: 0.9648\n",
      "Epoch 83/100\n",
      "44/44 [==============================] - 1s 27ms/step - loss: 0.0537 - accuracy: 0.9957 - val_loss: 0.1211 - val_accuracy: 0.9662\n",
      "Epoch 84/100\n",
      "44/44 [==============================] - 1s 27ms/step - loss: 0.0519 - accuracy: 0.9964 - val_loss: 0.1226 - val_accuracy: 0.9644\n",
      "Epoch 85/100\n",
      "44/44 [==============================] - 1s 26ms/step - loss: 0.0522 - accuracy: 0.9968 - val_loss: 0.1418 - val_accuracy: 0.9595\n",
      "Epoch 86/100\n",
      "44/44 [==============================] - 1s 27ms/step - loss: 0.0496 - accuracy: 0.9986 - val_loss: 0.1225 - val_accuracy: 0.9655\n",
      "Epoch 87/100\n",
      "43/44 [============================>.] - ETA: 0s - loss: 0.0488 - accuracy: 0.9975\n",
      "Epoch 00087: ReduceLROnPlateau reducing learning rate to 6.25000029685907e-05.\n",
      "44/44 [==============================] - 1s 28ms/step - loss: 0.0485 - accuracy: 0.9972 - val_loss: 0.1239 - val_accuracy: 0.9648\n",
      "Epoch 88/100\n",
      "44/44 [==============================] - 1s 27ms/step - loss: 0.0479 - accuracy: 0.9964 - val_loss: 0.1084 - val_accuracy: 0.9694\n",
      "Epoch 89/100\n",
      "44/44 [==============================] - 1s 27ms/step - loss: 0.0447 - accuracy: 0.9982 - val_loss: 0.1087 - val_accuracy: 0.9698\n",
      "Epoch 90/100\n",
      "44/44 [==============================] - 1s 26ms/step - loss: 0.0436 - accuracy: 0.9989 - val_loss: 0.1080 - val_accuracy: 0.9691\n",
      "Epoch 91/100\n",
      "44/44 [==============================] - 1s 28ms/step - loss: 0.0425 - accuracy: 0.9986 - val_loss: 0.1064 - val_accuracy: 0.9719\n",
      "Epoch 92/100\n",
      "44/44 [==============================] - 1s 27ms/step - loss: 0.0424 - accuracy: 0.9986 - val_loss: 0.1072 - val_accuracy: 0.9705\n",
      "Epoch 93/100\n",
      "44/44 [==============================] - 1s 26ms/step - loss: 0.0433 - accuracy: 0.9979 - val_loss: 0.1074 - val_accuracy: 0.9705\n",
      "Epoch 94/100\n",
      "44/44 [==============================] - 1s 28ms/step - loss: 0.0425 - accuracy: 0.9982 - val_loss: 0.1045 - val_accuracy: 0.9705\n",
      "Epoch 95/100\n",
      "44/44 [==============================] - 1s 28ms/step - loss: 0.0414 - accuracy: 0.9979 - val_loss: 0.1046 - val_accuracy: 0.9708\n",
      "Epoch 96/100\n",
      "44/44 [==============================] - 1s 28ms/step - loss: 0.0413 - accuracy: 0.9982 - val_loss: 0.1044 - val_accuracy: 0.9708\n",
      "Epoch 97/100\n",
      "44/44 [==============================] - 1s 28ms/step - loss: 0.0416 - accuracy: 0.9986 - val_loss: 0.1060 - val_accuracy: 0.9708\n",
      "Epoch 98/100\n",
      "44/44 [==============================] - 1s 28ms/step - loss: 0.0407 - accuracy: 0.9986 - val_loss: 0.1045 - val_accuracy: 0.9705\n",
      "Epoch 99/100\n",
      "44/44 [==============================] - 1s 28ms/step - loss: 0.0401 - accuracy: 0.9979 - val_loss: 0.1045 - val_accuracy: 0.9705\n",
      "Epoch 100/100\n",
      "43/44 [============================>.] - ETA: 0s - loss: 0.0396 - accuracy: 0.9989\n",
      "Epoch 00100: ReduceLROnPlateau reducing learning rate to 3.125000148429535e-05.\n",
      "44/44 [==============================] - 1s 28ms/step - loss: 0.0394 - accuracy: 0.9989 - val_loss: 0.1060 - val_accuracy: 0.9708\n",
      "44/44 [==============================] - 0s 6ms/step - loss: 0.1447 - accuracy: 0.9627\n",
      "44/44 [==============================] - 0s 6ms/step - loss: 0.1447 - accuracy: 0.9627\n",
      "Fold 1\n",
      "####################\n",
      "Epoch 1/100\n",
      "44/44 [==============================] - 1s 30ms/step - loss: 3.2838 - accuracy: 0.4559 - val_loss: 3.2637 - val_accuracy: 0.2923\n",
      "Epoch 2/100\n",
      "44/44 [==============================] - 1s 27ms/step - loss: 2.3349 - accuracy: 0.5477 - val_loss: 1.8668 - val_accuracy: 0.5480\n",
      "Epoch 3/100\n",
      "44/44 [==============================] - 1s 28ms/step - loss: 2.0665 - accuracy: 0.5789 - val_loss: 1.7744 - val_accuracy: 0.5583\n",
      "Epoch 4/100\n",
      "44/44 [==============================] - 1s 28ms/step - loss: 1.8418 - accuracy: 0.6202 - val_loss: 1.6825 - val_accuracy: 0.5676\n",
      "Epoch 5/100\n",
      "44/44 [==============================] - 1s 28ms/step - loss: 1.6568 - accuracy: 0.6501 - val_loss: 1.5215 - val_accuracy: 0.6024\n",
      "Epoch 6/100\n",
      "44/44 [==============================] - 1s 28ms/step - loss: 1.4987 - accuracy: 0.6814 - val_loss: 1.3432 - val_accuracy: 0.6387\n",
      "Epoch 7/100\n",
      "44/44 [==============================] - 1s 28ms/step - loss: 1.3577 - accuracy: 0.7080 - val_loss: 1.2063 - val_accuracy: 0.6743\n",
      "Epoch 8/100\n"
     ]
    },
    {
     "name": "stdout",
     "output_type": "stream",
     "text": [
      "44/44 [==============================] - 1s 27ms/step - loss: 1.2329 - accuracy: 0.7312 - val_loss: 1.0794 - val_accuracy: 0.7084\n",
      "Epoch 9/100\n",
      "44/44 [==============================] - 1s 27ms/step - loss: 1.1273 - accuracy: 0.7493 - val_loss: 0.9875 - val_accuracy: 0.7397\n",
      "Epoch 10/100\n",
      "44/44 [==============================] - 1s 28ms/step - loss: 1.0354 - accuracy: 0.7688 - val_loss: 0.8984 - val_accuracy: 0.7667\n",
      "Epoch 11/100\n",
      "44/44 [==============================] - 1s 27ms/step - loss: 0.9595 - accuracy: 0.7817 - val_loss: 0.8255 - val_accuracy: 0.8016\n",
      "Epoch 12/100\n",
      "44/44 [==============================] - 1s 28ms/step - loss: 0.8952 - accuracy: 0.7969 - val_loss: 0.7933 - val_accuracy: 0.7923\n",
      "Epoch 13/100\n",
      "44/44 [==============================] - 1s 27ms/step - loss: 0.8421 - accuracy: 0.8115 - val_loss: 0.7216 - val_accuracy: 0.8172\n",
      "Epoch 14/100\n",
      "44/44 [==============================] - 1s 27ms/step - loss: 0.8009 - accuracy: 0.8169 - val_loss: 0.6631 - val_accuracy: 0.8425\n",
      "Epoch 15/100\n",
      "44/44 [==============================] - 1s 27ms/step - loss: 0.7524 - accuracy: 0.8254 - val_loss: 0.6401 - val_accuracy: 0.8385\n",
      "Epoch 16/100\n",
      "44/44 [==============================] - 1s 27ms/step - loss: 0.7089 - accuracy: 0.8382 - val_loss: 0.6152 - val_accuracy: 0.8378\n",
      "Epoch 17/100\n",
      "44/44 [==============================] - 1s 27ms/step - loss: 0.6662 - accuracy: 0.8482 - val_loss: 0.5936 - val_accuracy: 0.8375\n",
      "Epoch 18/100\n",
      "44/44 [==============================] - 1s 27ms/step - loss: 0.6280 - accuracy: 0.8549 - val_loss: 0.5689 - val_accuracy: 0.8460\n",
      "Epoch 19/100\n",
      "44/44 [==============================] - 1s 27ms/step - loss: 0.5961 - accuracy: 0.8659 - val_loss: 0.5474 - val_accuracy: 0.8460\n",
      "Epoch 20/100\n",
      " 1/44 [..............................] - ETA: 0s - loss: 0.4576 - accuracy: 0.9062"
     ]
    },
    {
     "ename": "KeyboardInterrupt",
     "evalue": "",
     "output_type": "error",
     "traceback": [
      "\u001b[0;31m---------------------------------------------------------------------------\u001b[0m",
      "\u001b[0;31mKeyboardInterrupt\u001b[0m                         Traceback (most recent call last)",
      "\u001b[0;32m/tmp/ipykernel_463/408250076.py\u001b[0m in \u001b[0;36m<module>\u001b[0;34m\u001b[0m\n\u001b[1;32m     16\u001b[0m \u001b[0;34m\u001b[0m\u001b[0m\n\u001b[1;32m     17\u001b[0m     model.fit(train_dataset, validation_data=val_dataset, callbacks=callbacks_list, \n\u001b[0;32m---> 18\u001b[0;31m               class_weight=weight, epochs=100)\n\u001b[0m\u001b[1;32m     19\u001b[0m \u001b[0;34m\u001b[0m\u001b[0m\n\u001b[1;32m     20\u001b[0m     \u001b[0;31m# 모델 복원\u001b[0m\u001b[0;34m\u001b[0m\u001b[0;34m\u001b[0m\u001b[0m\n",
      "\u001b[0;32m~/anaconda3/envs/kw-ai/lib/python3.7/site-packages/tensorflow/python/keras/engine/training.py\u001b[0m in \u001b[0;36m_method_wrapper\u001b[0;34m(self, *args, **kwargs)\u001b[0m\n\u001b[1;32m    106\u001b[0m   \u001b[0;32mdef\u001b[0m \u001b[0m_method_wrapper\u001b[0m\u001b[0;34m(\u001b[0m\u001b[0mself\u001b[0m\u001b[0;34m,\u001b[0m \u001b[0;34m*\u001b[0m\u001b[0margs\u001b[0m\u001b[0;34m,\u001b[0m \u001b[0;34m**\u001b[0m\u001b[0mkwargs\u001b[0m\u001b[0;34m)\u001b[0m\u001b[0;34m:\u001b[0m\u001b[0;34m\u001b[0m\u001b[0m\n\u001b[1;32m    107\u001b[0m     \u001b[0;32mif\u001b[0m \u001b[0;32mnot\u001b[0m \u001b[0mself\u001b[0m\u001b[0;34m.\u001b[0m\u001b[0m_in_multi_worker_mode\u001b[0m\u001b[0;34m(\u001b[0m\u001b[0;34m)\u001b[0m\u001b[0;34m:\u001b[0m  \u001b[0;31m# pylint: disable=protected-access\u001b[0m\u001b[0;34m\u001b[0m\u001b[0m\n\u001b[0;32m--> 108\u001b[0;31m       \u001b[0;32mreturn\u001b[0m \u001b[0mmethod\u001b[0m\u001b[0;34m(\u001b[0m\u001b[0mself\u001b[0m\u001b[0;34m,\u001b[0m \u001b[0;34m*\u001b[0m\u001b[0margs\u001b[0m\u001b[0;34m,\u001b[0m \u001b[0;34m**\u001b[0m\u001b[0mkwargs\u001b[0m\u001b[0;34m)\u001b[0m\u001b[0;34m\u001b[0m\u001b[0m\n\u001b[0m\u001b[1;32m    109\u001b[0m \u001b[0;34m\u001b[0m\u001b[0m\n\u001b[1;32m    110\u001b[0m     \u001b[0;31m# Running inside `run_distribute_coordinator` already.\u001b[0m\u001b[0;34m\u001b[0m\u001b[0;34m\u001b[0m\u001b[0m\n",
      "\u001b[0;32m~/anaconda3/envs/kw-ai/lib/python3.7/site-packages/tensorflow/python/keras/engine/training.py\u001b[0m in \u001b[0;36mfit\u001b[0;34m(self, x, y, batch_size, epochs, verbose, callbacks, validation_split, validation_data, shuffle, class_weight, sample_weight, initial_epoch, steps_per_epoch, validation_steps, validation_batch_size, validation_freq, max_queue_size, workers, use_multiprocessing)\u001b[0m\n\u001b[1;32m   1096\u001b[0m                 batch_size=batch_size):\n\u001b[1;32m   1097\u001b[0m               \u001b[0mcallbacks\u001b[0m\u001b[0;34m.\u001b[0m\u001b[0mon_train_batch_begin\u001b[0m\u001b[0;34m(\u001b[0m\u001b[0mstep\u001b[0m\u001b[0;34m)\u001b[0m\u001b[0;34m\u001b[0m\u001b[0m\n\u001b[0;32m-> 1098\u001b[0;31m               \u001b[0mtmp_logs\u001b[0m \u001b[0;34m=\u001b[0m \u001b[0mtrain_function\u001b[0m\u001b[0;34m(\u001b[0m\u001b[0miterator\u001b[0m\u001b[0;34m)\u001b[0m\u001b[0;34m\u001b[0m\u001b[0m\n\u001b[0m\u001b[1;32m   1099\u001b[0m               \u001b[0;32mif\u001b[0m \u001b[0mdata_handler\u001b[0m\u001b[0;34m.\u001b[0m\u001b[0mshould_sync\u001b[0m\u001b[0;34m:\u001b[0m\u001b[0;34m\u001b[0m\u001b[0m\n\u001b[1;32m   1100\u001b[0m                 \u001b[0mcontext\u001b[0m\u001b[0;34m.\u001b[0m\u001b[0masync_wait\u001b[0m\u001b[0;34m(\u001b[0m\u001b[0;34m)\u001b[0m\u001b[0;34m\u001b[0m\u001b[0m\n",
      "\u001b[0;32m~/anaconda3/envs/kw-ai/lib/python3.7/site-packages/tensorflow/python/eager/def_function.py\u001b[0m in \u001b[0;36m__call__\u001b[0;34m(self, *args, **kwds)\u001b[0m\n\u001b[1;32m    778\u001b[0m       \u001b[0;32melse\u001b[0m\u001b[0;34m:\u001b[0m\u001b[0;34m\u001b[0m\u001b[0m\n\u001b[1;32m    779\u001b[0m         \u001b[0mcompiler\u001b[0m \u001b[0;34m=\u001b[0m \u001b[0;34m\"nonXla\"\u001b[0m\u001b[0;34m\u001b[0m\u001b[0m\n\u001b[0;32m--> 780\u001b[0;31m         \u001b[0mresult\u001b[0m \u001b[0;34m=\u001b[0m \u001b[0mself\u001b[0m\u001b[0;34m.\u001b[0m\u001b[0m_call\u001b[0m\u001b[0;34m(\u001b[0m\u001b[0;34m*\u001b[0m\u001b[0margs\u001b[0m\u001b[0;34m,\u001b[0m \u001b[0;34m**\u001b[0m\u001b[0mkwds\u001b[0m\u001b[0;34m)\u001b[0m\u001b[0;34m\u001b[0m\u001b[0m\n\u001b[0m\u001b[1;32m    781\u001b[0m \u001b[0;34m\u001b[0m\u001b[0m\n\u001b[1;32m    782\u001b[0m       \u001b[0mnew_tracing_count\u001b[0m \u001b[0;34m=\u001b[0m \u001b[0mself\u001b[0m\u001b[0;34m.\u001b[0m\u001b[0m_get_tracing_count\u001b[0m\u001b[0;34m(\u001b[0m\u001b[0;34m)\u001b[0m\u001b[0;34m\u001b[0m\u001b[0m\n",
      "\u001b[0;32m~/anaconda3/envs/kw-ai/lib/python3.7/site-packages/tensorflow/python/eager/def_function.py\u001b[0m in \u001b[0;36m_call\u001b[0;34m(self, *args, **kwds)\u001b[0m\n\u001b[1;32m    805\u001b[0m       \u001b[0;31m# In this case we have created variables on the first call, so we run the\u001b[0m\u001b[0;34m\u001b[0m\u001b[0;34m\u001b[0m\u001b[0m\n\u001b[1;32m    806\u001b[0m       \u001b[0;31m# defunned version which is guaranteed to never create variables.\u001b[0m\u001b[0;34m\u001b[0m\u001b[0;34m\u001b[0m\u001b[0m\n\u001b[0;32m--> 807\u001b[0;31m       \u001b[0;32mreturn\u001b[0m \u001b[0mself\u001b[0m\u001b[0;34m.\u001b[0m\u001b[0m_stateless_fn\u001b[0m\u001b[0;34m(\u001b[0m\u001b[0;34m*\u001b[0m\u001b[0margs\u001b[0m\u001b[0;34m,\u001b[0m \u001b[0;34m**\u001b[0m\u001b[0mkwds\u001b[0m\u001b[0;34m)\u001b[0m  \u001b[0;31m# pylint: disable=not-callable\u001b[0m\u001b[0;34m\u001b[0m\u001b[0m\n\u001b[0m\u001b[1;32m    808\u001b[0m     \u001b[0;32melif\u001b[0m \u001b[0mself\u001b[0m\u001b[0;34m.\u001b[0m\u001b[0m_stateful_fn\u001b[0m \u001b[0;32mis\u001b[0m \u001b[0;32mnot\u001b[0m \u001b[0;32mNone\u001b[0m\u001b[0;34m:\u001b[0m\u001b[0;34m\u001b[0m\u001b[0m\n\u001b[1;32m    809\u001b[0m       \u001b[0;31m# Release the lock early so that multiple threads can perform the call\u001b[0m\u001b[0;34m\u001b[0m\u001b[0;34m\u001b[0m\u001b[0m\n",
      "\u001b[0;32m~/anaconda3/envs/kw-ai/lib/python3.7/site-packages/tensorflow/python/eager/function.py\u001b[0m in \u001b[0;36m__call__\u001b[0;34m(self, *args, **kwargs)\u001b[0m\n\u001b[1;32m   2827\u001b[0m     \u001b[0;32mwith\u001b[0m \u001b[0mself\u001b[0m\u001b[0;34m.\u001b[0m\u001b[0m_lock\u001b[0m\u001b[0;34m:\u001b[0m\u001b[0;34m\u001b[0m\u001b[0m\n\u001b[1;32m   2828\u001b[0m       \u001b[0mgraph_function\u001b[0m\u001b[0;34m,\u001b[0m \u001b[0margs\u001b[0m\u001b[0;34m,\u001b[0m \u001b[0mkwargs\u001b[0m \u001b[0;34m=\u001b[0m \u001b[0mself\u001b[0m\u001b[0;34m.\u001b[0m\u001b[0m_maybe_define_function\u001b[0m\u001b[0;34m(\u001b[0m\u001b[0margs\u001b[0m\u001b[0;34m,\u001b[0m \u001b[0mkwargs\u001b[0m\u001b[0;34m)\u001b[0m\u001b[0;34m\u001b[0m\u001b[0m\n\u001b[0;32m-> 2829\u001b[0;31m     \u001b[0;32mreturn\u001b[0m \u001b[0mgraph_function\u001b[0m\u001b[0;34m.\u001b[0m\u001b[0m_filtered_call\u001b[0m\u001b[0;34m(\u001b[0m\u001b[0margs\u001b[0m\u001b[0;34m,\u001b[0m \u001b[0mkwargs\u001b[0m\u001b[0;34m)\u001b[0m  \u001b[0;31m# pylint: disable=protected-access\u001b[0m\u001b[0;34m\u001b[0m\u001b[0m\n\u001b[0m\u001b[1;32m   2830\u001b[0m \u001b[0;34m\u001b[0m\u001b[0m\n\u001b[1;32m   2831\u001b[0m   \u001b[0;34m@\u001b[0m\u001b[0mproperty\u001b[0m\u001b[0;34m\u001b[0m\u001b[0m\n",
      "\u001b[0;32m~/anaconda3/envs/kw-ai/lib/python3.7/site-packages/tensorflow/python/eager/function.py\u001b[0m in \u001b[0;36m_filtered_call\u001b[0;34m(self, args, kwargs, cancellation_manager)\u001b[0m\n\u001b[1;32m   1846\u001b[0m                            resource_variable_ops.BaseResourceVariable))],\n\u001b[1;32m   1847\u001b[0m         \u001b[0mcaptured_inputs\u001b[0m\u001b[0;34m=\u001b[0m\u001b[0mself\u001b[0m\u001b[0;34m.\u001b[0m\u001b[0mcaptured_inputs\u001b[0m\u001b[0;34m,\u001b[0m\u001b[0;34m\u001b[0m\u001b[0m\n\u001b[0;32m-> 1848\u001b[0;31m         cancellation_manager=cancellation_manager)\n\u001b[0m\u001b[1;32m   1849\u001b[0m \u001b[0;34m\u001b[0m\u001b[0m\n\u001b[1;32m   1850\u001b[0m   \u001b[0;32mdef\u001b[0m \u001b[0m_call_flat\u001b[0m\u001b[0;34m(\u001b[0m\u001b[0mself\u001b[0m\u001b[0;34m,\u001b[0m \u001b[0margs\u001b[0m\u001b[0;34m,\u001b[0m \u001b[0mcaptured_inputs\u001b[0m\u001b[0;34m,\u001b[0m \u001b[0mcancellation_manager\u001b[0m\u001b[0;34m=\u001b[0m\u001b[0;32mNone\u001b[0m\u001b[0;34m)\u001b[0m\u001b[0;34m:\u001b[0m\u001b[0;34m\u001b[0m\u001b[0m\n",
      "\u001b[0;32m~/anaconda3/envs/kw-ai/lib/python3.7/site-packages/tensorflow/python/eager/function.py\u001b[0m in \u001b[0;36m_call_flat\u001b[0;34m(self, args, captured_inputs, cancellation_manager)\u001b[0m\n\u001b[1;32m   1922\u001b[0m       \u001b[0;31m# No tape is watching; skip to running the function.\u001b[0m\u001b[0;34m\u001b[0m\u001b[0;34m\u001b[0m\u001b[0m\n\u001b[1;32m   1923\u001b[0m       return self._build_call_outputs(self._inference_function.call(\n\u001b[0;32m-> 1924\u001b[0;31m           ctx, args, cancellation_manager=cancellation_manager))\n\u001b[0m\u001b[1;32m   1925\u001b[0m     forward_backward = self._select_forward_and_backward_functions(\n\u001b[1;32m   1926\u001b[0m         \u001b[0margs\u001b[0m\u001b[0;34m,\u001b[0m\u001b[0;34m\u001b[0m\u001b[0m\n",
      "\u001b[0;32m~/anaconda3/envs/kw-ai/lib/python3.7/site-packages/tensorflow/python/eager/function.py\u001b[0m in \u001b[0;36mcall\u001b[0;34m(self, ctx, args, cancellation_manager)\u001b[0m\n\u001b[1;32m    548\u001b[0m               \u001b[0minputs\u001b[0m\u001b[0;34m=\u001b[0m\u001b[0margs\u001b[0m\u001b[0;34m,\u001b[0m\u001b[0;34m\u001b[0m\u001b[0m\n\u001b[1;32m    549\u001b[0m               \u001b[0mattrs\u001b[0m\u001b[0;34m=\u001b[0m\u001b[0mattrs\u001b[0m\u001b[0;34m,\u001b[0m\u001b[0;34m\u001b[0m\u001b[0m\n\u001b[0;32m--> 550\u001b[0;31m               ctx=ctx)\n\u001b[0m\u001b[1;32m    551\u001b[0m         \u001b[0;32melse\u001b[0m\u001b[0;34m:\u001b[0m\u001b[0;34m\u001b[0m\u001b[0m\n\u001b[1;32m    552\u001b[0m           outputs = execute.execute_with_cancellation(\n",
      "\u001b[0;32m~/anaconda3/envs/kw-ai/lib/python3.7/site-packages/tensorflow/python/eager/execute.py\u001b[0m in \u001b[0;36mquick_execute\u001b[0;34m(op_name, num_outputs, inputs, attrs, ctx, name)\u001b[0m\n\u001b[1;32m     58\u001b[0m     \u001b[0mctx\u001b[0m\u001b[0;34m.\u001b[0m\u001b[0mensure_initialized\u001b[0m\u001b[0;34m(\u001b[0m\u001b[0;34m)\u001b[0m\u001b[0;34m\u001b[0m\u001b[0m\n\u001b[1;32m     59\u001b[0m     tensors = pywrap_tfe.TFE_Py_Execute(ctx._handle, device_name, op_name,\n\u001b[0;32m---> 60\u001b[0;31m                                         inputs, attrs, num_outputs)\n\u001b[0m\u001b[1;32m     61\u001b[0m   \u001b[0;32mexcept\u001b[0m \u001b[0mcore\u001b[0m\u001b[0;34m.\u001b[0m\u001b[0m_NotOkStatusException\u001b[0m \u001b[0;32mas\u001b[0m \u001b[0me\u001b[0m\u001b[0;34m:\u001b[0m\u001b[0;34m\u001b[0m\u001b[0m\n\u001b[1;32m     62\u001b[0m     \u001b[0;32mif\u001b[0m \u001b[0mname\u001b[0m \u001b[0;32mis\u001b[0m \u001b[0;32mnot\u001b[0m \u001b[0;32mNone\u001b[0m\u001b[0;34m:\u001b[0m\u001b[0;34m\u001b[0m\u001b[0m\n",
      "\u001b[0;31mKeyboardInterrupt\u001b[0m: "
     ]
    }
   ],
   "source": [
    "# k-fold 적용\n",
    "# 데이터 수가 적어 10개의 fold 사용\n",
    "k = 10 \n",
    "split = StratifiedKFold(n_splits=k, shuffle=True, random_state=42)\n",
    "results = []    # 매 fold 훈련 후 loss 저장\n",
    "models = []     # 매 fold 훈련 후 해당 모델 저장\n",
    "accs = []\n",
    "for i, (train, val) in enumerate(split.split(series_train, labels)):\n",
    "    print('Fold', i)\n",
    "    print('#'*20)\n",
    "\n",
    "    train_dataset = make_train(series_train[train], labels[train])\n",
    "    val_dataset = make_val(series_train[val], labels[val])\n",
    "\n",
    "    model = base()\n",
    "\n",
    "    model.fit(train_dataset, validation_data=val_dataset, callbacks=callbacks_list, \n",
    "              class_weight=weight, epochs=100)\n",
    "\n",
    "    # 모델 복원\n",
    "    model.load_weights(checkpoint_path)\n",
    "    result = model.evaluate(val_dataset)[0]\n",
    "    acc = model.evaluate(val_dataset)[1]\n",
    "    \n",
    "    results.append(result)\n",
    "    accs.append(acc)\n",
    "    models.append(model)\n",
    "\n",
    "    del model, train_dataset, val_dataset"
   ]
  },
  {
   "cell_type": "code",
   "execution_count": 53,
   "metadata": {},
   "outputs": [
    {
     "data": {
      "text/plain": [
       "[0.0896417573094368,\n",
       " 0.15422236919403076,\n",
       " 0.14694762229919434,\n",
       " 0.15056133270263672,\n",
       " 0.15249910950660706,\n",
       " 0.14939630031585693,\n",
       " 0.15247102081775665,\n",
       " 0.08403807878494263,\n",
       " 0.14435991644859314,\n",
       " 0.14709262549877167]"
      ]
     },
     "execution_count": 53,
     "metadata": {},
     "output_type": "execute_result"
    }
   ],
   "source": [
    "results"
   ]
  },
  {
   "cell_type": "code",
   "execution_count": 55,
   "metadata": {},
   "outputs": [
    {
     "data": {
      "text/plain": [
       "[0.9736841917037964,\n",
       " 0.9573257565498352,\n",
       " 0.9591038227081299,\n",
       " 0.9587482213973999,\n",
       " 0.9576813578605652,\n",
       " 0.9584074020385742,\n",
       " 0.9569854140281677,\n",
       " 0.9797369241714478,\n",
       " 0.9644507765769958,\n",
       " 0.9633842706680298]"
      ]
     },
     "execution_count": 55,
     "metadata": {},
     "output_type": "execute_result"
    }
   ],
   "source": [
    "accs"
   ]
  },
  {
   "cell_type": "code",
   "execution_count": 54,
   "metadata": {},
   "outputs": [
    {
     "data": {
      "text/plain": [
       "0.9629508137702942"
      ]
     },
     "execution_count": 54,
     "metadata": {},
     "output_type": "execute_result"
    }
   ],
   "source": [
    "np.mean(accs)"
   ]
  },
  {
   "cell_type": "code",
   "execution_count": 56,
   "metadata": {
    "id": "08k1hM346N07"
   },
   "outputs": [],
   "source": [
    "# 결과 생성\n",
    "pred_list = []    # 예측 결과를 담을 리스트\n",
    "for model in models:\n",
    "  pred = model.predict(series_test)\n",
    "  pred_list.append(pred)\n",
    "\n",
    "pred = np.mean(pred_list, axis=0)"
   ]
  },
  {
   "cell_type": "code",
   "execution_count": 57,
   "metadata": {
    "id": "C_MwLtUPM5Wy"
   },
   "outputs": [],
   "source": [
    "# 제출물 생성\n",
    "sub.iloc[:, 1:] = pred\n",
    "\n",
    "save_path = os.path.join('sub/test_wt.csv')     # 저장 경로\n",
    "sub.to_csv(save_path, index=False)"
   ]
  },
  {
   "cell_type": "code",
   "execution_count": null,
   "metadata": {},
   "outputs": [],
   "source": []
  }
 ],
 "metadata": {
  "accelerator": "GPU",
  "colab": {
   "authorship_tag": "ABX9TyNEVY3vXKBGr7mTnXg6ddOD",
   "collapsed_sections": [],
   "name": "k-fold_base.ipynb",
   "provenance": []
  },
  "kernelspec": {
   "display_name": "kw-ai",
   "language": "python",
   "name": "kw-ai"
  },
  "language_info": {
   "codemirror_mode": {
    "name": "ipython",
    "version": 3
   },
   "file_extension": ".py",
   "mimetype": "text/x-python",
   "name": "python",
   "nbconvert_exporter": "python",
   "pygments_lexer": "ipython3",
   "version": "3.7.0"
  }
 },
 "nbformat": 4,
 "nbformat_minor": 1
}
