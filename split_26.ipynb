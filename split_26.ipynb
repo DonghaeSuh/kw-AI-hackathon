{
 "cells": [
  {
   "cell_type": "code",
   "execution_count": 1,
   "id": "f57814e9",
   "metadata": {},
   "outputs": [],
   "source": [
    "import pandas as pd\n",
    "import numpy as np\n",
    "import os\n",
    "from sklearn.model_selection import StratifiedKFold, KFold"
   ]
  },
  {
   "cell_type": "code",
   "execution_count": 2,
   "id": "7014d302",
   "metadata": {},
   "outputs": [],
   "source": [
    "# data 경로\n",
    "path = 'data'\n",
    "train_path = os.path.join(path, 'train_features.csv')\n",
    "label_path = os.path.join(path, 'train_labels.csv')\n",
    "test_path = os.path.join(path, 'test_features.csv')\n",
    "sub_path = os. path.join(path, 'sample_submission.csv')\n",
    "\n",
    "train = pd.read_csv(train_path)\n",
    "label = pd.read_csv(label_path)\n",
    "test = pd.read_csv(test_path)\n",
    "sub = pd.read_csv(sub_path)"
   ]
  },
  {
   "cell_type": "code",
   "execution_count": 4,
   "id": "36863923",
   "metadata": {},
   "outputs": [],
   "source": [
    "k_split = KFold(n_splits=5)"
   ]
  },
  {
   "cell_type": "code",
   "execution_count": 32,
   "id": "77d655fe",
   "metadata": {},
   "outputs": [],
   "source": [
    "def ids_26(label):\n",
    "    mask = label['label'] == 26\n",
    "    ids = label.loc[mask, 'id'].tolist()\n",
    "    \n",
    "    return ids\n",
    "\n",
    "\n",
    "def make_series(data):\n",
    "    ids = data['id'].unique()\n",
    "    id_data = data.groupby('id')\n",
    "    series_data = []\n",
    "\n",
    "    for i in ids:\n",
    "        df = id_data.get_group(i)\n",
    "        df = df.drop(['id', 'time'], axis=1)\n",
    "        series_data.append(df.to_numpy())\n",
    "\n",
    "    series_data = np.array(series_data)\n",
    "    return series_data\n",
    "\n",
    "\n",
    "def make_split_dataset(series_train, ids, labels):\n",
    "    final_list = []\n",
    "    \n",
    "    k_split = KFold(n_splits=5)\n",
    "    \n",
    "    temp = np.array(range(3125))\n",
    "    except_train_mask = np.setdiff1d(temp, ids, assume_unique=True)\n",
    "    except_train = series_train[except_train_mask]\n",
    "    except_label = labels[except_train_mask]\n",
    "    \n",
    "    train_26 = series_train[ids]\n",
    "\n",
    "    for _, fold in k_split.split(train_26):\n",
    "        temp_train = train_26[fold]\n",
    "        temp_label = np.array([26] * len(temp_train))\n",
    "        \n",
    "        temp_train = np.concatenate([temp_train, except_train], axis=0)\n",
    "        temp_label = np.concatenate([temp_label, except_label], axis=0)\n",
    "        print(temp_train.shape)\n",
    "        final_list.append([temp_train, temp_label])\n",
    "        \n",
    "    return final_list"
   ]
  },
  {
   "cell_type": "code",
   "execution_count": 33,
   "id": "0d08183d",
   "metadata": {},
   "outputs": [],
   "source": [
    "series_train = make_series(train)\n",
    "series_test = make_series(test)"
   ]
  },
  {
   "cell_type": "code",
   "execution_count": 34,
   "id": "51288532",
   "metadata": {},
   "outputs": [
    {
     "name": "stdout",
     "output_type": "stream",
     "text": [
      "(1911, 600, 6)\n",
      "(1911, 600, 6)\n",
      "(1911, 600, 6)\n",
      "(1910, 600, 6)\n",
      "(1910, 600, 6)\n"
     ]
    }
   ],
   "source": [
    "ids = ids_26(label)\n",
    "\n",
    "data_list = make_split_dataset(series_train, ids, label['label'])"
   ]
  },
  {
   "cell_type": "code",
   "execution_count": 37,
   "id": "b799826c",
   "metadata": {},
   "outputs": [
    {
     "data": {
      "text/plain": [
       "array([26, 26, 26, ..., 17, 15,  2], dtype=int64)"
      ]
     },
     "execution_count": 37,
     "metadata": {},
     "output_type": "execute_result"
    }
   ],
   "source": [
    "data_list[0][1]"
   ]
  },
  {
   "cell_type": "code",
   "execution_count": null,
   "id": "1681a19e",
   "metadata": {},
   "outputs": [],
   "source": []
  }
 ],
 "metadata": {
  "kernelspec": {
   "display_name": "kw-ai",
   "language": "python",
   "name": "kw-ai"
  },
  "language_info": {
   "codemirror_mode": {
    "name": "ipython",
    "version": 3
   },
   "file_extension": ".py",
   "mimetype": "text/x-python",
   "name": "python",
   "nbconvert_exporter": "python",
   "pygments_lexer": "ipython3",
   "version": "3.8.0"
  }
 },
 "nbformat": 4,
 "nbformat_minor": 5
}
