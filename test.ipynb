{
 "cells": [
  {
   "cell_type": "code",
   "execution_count": 13,
   "id": "2cd8e7cf",
   "metadata": {},
   "outputs": [],
   "source": [
    "import tensorflow as tf\n",
    "import os\n",
    "import pandas as pd\n",
    "import numpy as np"
   ]
  },
  {
   "cell_type": "code",
   "execution_count": 87,
   "id": "7ddfdc56",
   "metadata": {},
   "outputs": [],
   "source": [
    "beta = 0.9\n",
    "n = 2\n",
    "\n",
    "weight = (1 - beta) / (1 - (beta ** n))"
   ]
  },
  {
   "cell_type": "code",
   "execution_count": 88,
   "id": "407a090b",
   "metadata": {},
   "outputs": [
    {
     "data": {
      "text/plain": [
       "0.5263157894736843"
      ]
     },
     "execution_count": 88,
     "metadata": {},
     "output_type": "execute_result"
    }
   ],
   "source": [
    "weight"
   ]
  },
  {
   "cell_type": "code",
   "execution_count": 86,
   "id": "26546a72",
   "metadata": {},
   "outputs": [
    {
     "data": {
      "text/plain": [
       "0.81"
      ]
     },
     "execution_count": 86,
     "metadata": {},
     "output_type": "execute_result"
    }
   ],
   "source": [
    "beta ** n"
   ]
  },
  {
   "cell_type": "code",
   "execution_count": 96,
   "id": "9a3dddba",
   "metadata": {},
   "outputs": [],
   "source": [
    "beta = 0.9\n",
    "n = 1500\n",
    "weight = tf.divide(1 - beta, 1 -  tf.pow(beta, n))"
   ]
  },
  {
   "cell_type": "code",
   "execution_count": 97,
   "id": "672a4e4f",
   "metadata": {},
   "outputs": [
    {
     "data": {
      "text/plain": [
       "<tf.Tensor: shape=(), dtype=float32, numpy=0.1>"
      ]
     },
     "execution_count": 97,
     "metadata": {},
     "output_type": "execute_result"
    }
   ],
   "source": [
    "weight"
   ]
  },
  {
   "cell_type": "code",
   "execution_count": 102,
   "id": "27c8dab6",
   "metadata": {},
   "outputs": [
    {
     "data": {
      "text/plain": [
       "TensorShape([61])"
      ]
     },
     "execution_count": 102,
     "metadata": {},
     "output_type": "execute_result"
    }
   ],
   "source": [
    "no_samples = [12, 21, 20, 23, 35, 25, 24, 26, 97, 37, 20, 23, 12,\n",
    "                      12, 25, 25, 22, 27, 47, 20, 26, 27, 19, 20, 35, 24,\n",
    "                      1518, 34, 55, 20, 35, 20, 18, 20, 22, 30, 28, 35, 20,\n",
    "                      20, 34, 20, 20, 35, 21, 22, 20, 26, 25, 30, 37, 24,\n",
    "                      12, 13, 23, 37, 36, 20, 20, 23, 48]\n",
    "\n",
    "beta = 0.9\n",
    "tf.divide(1-beta, 1-tf.pow(beta, no_samples)).shape"
   ]
  },
  {
   "cell_type": "code",
   "execution_count": null,
   "id": "a9384472",
   "metadata": {},
   "outputs": [],
   "source": []
  }
 ],
 "metadata": {
  "kernelspec": {
   "display_name": "kw-ai",
   "language": "python",
   "name": "kw-ai"
  },
  "language_info": {
   "codemirror_mode": {
    "name": "ipython",
    "version": 3
   },
   "file_extension": ".py",
   "mimetype": "text/x-python",
   "name": "python",
   "nbconvert_exporter": "python",
   "pygments_lexer": "ipython3",
   "version": "3.8.0"
  }
 },
 "nbformat": 4,
 "nbformat_minor": 5
}
