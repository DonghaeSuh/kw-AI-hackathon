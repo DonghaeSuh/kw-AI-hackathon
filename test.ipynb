{
 "cells": [
  {
   "cell_type": "code",
   "execution_count": 2,
   "id": "2cd8e7cf",
   "metadata": {},
   "outputs": [],
   "source": [
    "import os\n",
    "import pandas as pd\n",
    "import numpy as np\n",
    "from sklearn.model_selection import StratifiedKFold"
   ]
  },
  {
   "cell_type": "code",
   "execution_count": 100,
   "id": "c7a1cc7a",
   "metadata": {},
   "outputs": [],
   "source": []
  },
  {
   "cell_type": "code",
   "execution_count": 113,
   "id": "4f555410",
   "metadata": {},
   "outputs": [],
   "source": [
    "no_samples = np.array([12, 21, 20, 23, 35, 25, 24, 26, 97, 37, 20, 23, 12,\n",
    "                     12, 25, 25, 22, 27, 47, 20, 26, 27, 19, 20, 35, 24,\n",
    "                     1518, 34, 55, 20, 35, 20, 18, 20, 22, 30, 28, 35, 20,\n",
    "                     20, 34, 20, 20, 35, 21, 22, 20, 26, 25, 30, 37, 24,\n",
    "                     12, 13, 23, 37, 36, 20, 20, 23, 48])\n",
    "no_samples = MinMaxScaler().fit_transform(no_samples.reshape(-1, 1)) + 1"
   ]
  },
  {
   "cell_type": "code",
   "execution_count": 115,
   "id": "d522e342",
   "metadata": {},
   "outputs": [],
   "source": [
    "effective_num = 1.0 - np.power(beta, n)\n",
    "weights = (1.0 - beta) / np.array(effective_num)\n",
    "#weights = weights / np.sum(weights) * 2"
   ]
  },
  {
   "cell_type": "code",
   "execution_count": 116,
   "id": "4d028a49",
   "metadata": {},
   "outputs": [
    {
     "data": {
      "text/plain": [
       "3.32164126169764"
      ]
     },
     "execution_count": 116,
     "metadata": {},
     "output_type": "execute_result"
    }
   ],
   "source": [
    "weights"
   ]
  },
  {
   "cell_type": "code",
   "execution_count": 121,
   "id": "a9384472",
   "metadata": {},
   "outputs": [],
   "source": [
    "eff = 1-tf.pow(beta, no_samples)\n",
    "weight = tf.divide(1-beta, 1-tf.pow(beta, no_samples))\n",
    "#weight = tf.divide(weight, tf.reduce_sum(weight) * 61)"
   ]
  },
  {
   "cell_type": "code",
   "execution_count": 122,
   "id": "476519d4",
   "metadata": {},
   "outputs": [
    {
     "data": {
      "text/plain": [
       "<tf.Tensor: shape=(61, 1), dtype=float32, numpy=\n",
       "array([[1.000001  ],\n",
       "       [0.9940876 ],\n",
       "       [0.9947418 ],\n",
       "       [0.99278754],\n",
       "       [0.98503506],\n",
       "       [0.991485  ],\n",
       "       [0.9921358 ],\n",
       "       [0.9908351 ],\n",
       "       [0.94684356],\n",
       "       [0.9837528 ],\n",
       "       [0.9947418 ],\n",
       "       [0.99278754],\n",
       "       [1.000001  ],\n",
       "       [1.000001  ],\n",
       "       [0.991485  ],\n",
       "       [0.991485  ],\n",
       "       [0.99344003],\n",
       "       [0.990186  ],\n",
       "       [0.97740275],\n",
       "       [0.9947418 ],\n",
       "       [0.9908351 ],\n",
       "       [0.990186  ],\n",
       "       [0.9953969 ],\n",
       "       [0.9947418 ],\n",
       "       [0.98503506],\n",
       "       [0.9921358 ],\n",
       "       [0.50251347],\n",
       "       [0.9856774 ],\n",
       "       [0.972378  ],\n",
       "       [0.9947418 ],\n",
       "       [0.98503506],\n",
       "       [0.9947418 ],\n",
       "       [0.99605286],\n",
       "       [0.9947418 ],\n",
       "       [0.99344003],\n",
       "       [0.98824954],\n",
       "       [0.9895435 ],\n",
       "       [0.98503506],\n",
       "       [0.9947418 ],\n",
       "       [0.9947418 ],\n",
       "       [0.9856774 ],\n",
       "       [0.9947418 ],\n",
       "       [0.9947418 ],\n",
       "       [0.98503506],\n",
       "       [0.9940876 ],\n",
       "       [0.99344003],\n",
       "       [0.9947418 ],\n",
       "       [0.9908351 ],\n",
       "       [0.991485  ],\n",
       "       [0.98824954],\n",
       "       [0.9837528 ],\n",
       "       [0.9921358 ],\n",
       "       [1.000001  ],\n",
       "       [0.99933976],\n",
       "       [0.99278754],\n",
       "       [0.9837528 ],\n",
       "       [0.98439354],\n",
       "       [0.9947418 ],\n",
       "       [0.9947418 ],\n",
       "       [0.99278754],\n",
       "       [0.9767711 ]], dtype=float32)>"
      ]
     },
     "execution_count": 122,
     "metadata": {},
     "output_type": "execute_result"
    }
   ],
   "source": [
    "weight"
   ]
  },
  {
   "cell_type": "code",
   "execution_count": 96,
   "id": "90cf4e44",
   "metadata": {},
   "outputs": [
    {
     "data": {
      "text/plain": [
       "[500, 500, 500]"
      ]
     },
     "execution_count": 96,
     "metadata": {},
     "output_type": "execute_result"
    }
   ],
   "source": [
    "[500] * 3"
   ]
  },
  {
   "cell_type": "code",
   "execution_count": null,
   "id": "d28460ae",
   "metadata": {},
   "outputs": [],
   "source": []
  }
 ],
 "metadata": {
  "kernelspec": {
   "display_name": "kw-ai",
   "language": "python",
   "name": "kw_ai"
  },
  "language_info": {
   "codemirror_mode": {
    "name": "ipython",
    "version": 3
   },
   "file_extension": ".py",
   "mimetype": "text/x-python",
   "name": "python",
   "nbconvert_exporter": "python",
   "pygments_lexer": "ipython3",
   "version": "3.9.7"
  }
 },
 "nbformat": 4,
 "nbformat_minor": 5
}
